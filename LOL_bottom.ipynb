{
 "cells": [
  {
   "cell_type": "markdown",
   "metadata": {},
   "source": [
    "## 바텀 라인의 영향력 분석"
   ]
  },
  {
   "cell_type": "code",
   "execution_count": 16,
   "metadata": {},
   "outputs": [],
   "source": [
    "import pandas as pd\n",
    "import requests\n",
    "from urllib.parse import quote as quotekr # 한글 아이디를 인코딩 parse.quote\n",
    "import time"
   ]
  },
  {
   "cell_type": "code",
   "execution_count": 17,
   "metadata": {},
   "outputs": [],
   "source": [
    "api_key = 'RGAPI-547e5336-c2d4-4db0-8298-1bc1b0f5d74a'\n",
    "request_header = {\n",
    "                \"User-Agent\": \"Mozilla/5.0 (Windows NT 10.0; Win64; x64) AppleWebKit/537.36 (KHTML, like Gecko) Chrome/91.0.4472.164 Safari/537.36\",\n",
    "                \"Accept-Language\": \"ko,en-US;q=0.9,en;q=0.8,es;q=0.7\",\n",
    "                \"Accept-Charset\": \"application/x-www-form-urlencoded; charset=UTF-8\",\n",
    "                \"Origin\": \"https://developer.riotgames.com\",\n",
    "                \"X-Riot-Token\": api_key\n",
    "                }"
   ]
  },
  {
   "cell_type": "markdown",
   "metadata": {},
   "source": [
    "#### 티어별 유저 5명 선별\n",
    "* op.gg에서 무작위 추출\n",
    "* Most top 3 챔피언이 모두 원거리 딜러\n",
    "* 랭크 선호 포지션이 바텀 비율이 월등히 높은 사람\n",
    "* 솔로랭크 50판 이상"
   ]
  },
  {
   "cell_type": "code",
   "execution_count": null,
   "metadata": {},
   "outputs": [],
   "source": [
    "grand_master_user = ['줄라이77', '바텀개', 'always crying', '침대위섹시카이팅', '미드KING']\n",
    "diamond_user = ['세혀닝', '강한남자한만윤', 'FEARN0T', '잘해봐요괜찮아요', '쿠로미짱이현']\n",
    "# emerald_user = ['정의는 승리한다v', 'no return0', 'Cigar3', '주희보고싶은민교', 'Asnm']\n",
    "emerald_user = ['정의는 승리한다v', 'no return0', 'Cigar3', '김잼니', 'Asnm']\n",
    "platinum_user = ['협곡의 맙소사', '엄딴식', '지구뚝배기', '08년생 큐티정민', 'Gucci Vs']\n",
    "gold_user = ['루픠는못말려', '홍구형', '카이팅의 귀재', 'Orangerie', '쥐파티']\n",
    "\n",
    "grand_master_puuid = []\n",
    "diamond_puuid = []\n",
    "emerald_puuid = []\n",
    "platinum_puuid = []\n",
    "gold_puuid = []"
   ]
  },
  {
   "cell_type": "code",
   "execution_count": null,
   "metadata": {},
   "outputs": [],
   "source": [
    "def user_puuid(users, puuids):\n",
    "    for user in users:\n",
    "        url = 'https://kr.api.riotgames.com/lol/summoner/v4/summoners/by-name/' + quotekr(user)\n",
    "        response = requests.get(url, headers=request_header)\n",
    "        \n",
    "        if response.status_code == 200: # Success\n",
    "            pass\n",
    "\n",
    "        elif response.status_code == 429: # Rate limit exceeded\n",
    "            print('Rate limit exceeded error, api cost full')\n",
    "            start_time = time.time()\n",
    "\n",
    "            while True:\n",
    "                if response.status_code == 200:\n",
    "                    print('total wait time : ', time.time() - start_time)\n",
    "                    print('recovery api cost')\n",
    "                    break\n",
    "                else:\n",
    "                    print('try 3 second wait time')\n",
    "                    time.sleep(3)\n",
    "                    response = requests.get(url, headers=request_header)\n",
    "\n",
    "        elif response.status_code == 503: # Service unavailable\n",
    "            print('Service unavailable error')\n",
    "            start_time = time.time()\n",
    "\n",
    "            while True:\n",
    "                if response.status_code == 200:\n",
    "                    print('total wait time : ', time.time() - start_time)\n",
    "                    print('recovery api cost')\n",
    "                    break\n",
    "                else:\n",
    "                    print('try 5 second wait time')\n",
    "                    time.sleep(5)\n",
    "                    response = requests.get(url, headers=request_header)\n",
    "\n",
    "        elif response.status_code == 403: # Forbidden\n",
    "            print('Forbidden error, you need api renewal')\n",
    "            print('break')\n",
    "            return\n",
    "\n",
    "        puuids.append(response.json()['puuid'])"
   ]
  },
  {
   "cell_type": "code",
   "execution_count": null,
   "metadata": {},
   "outputs": [],
   "source": [
    "# def user_puuid2(users, puuids):\n",
    "#     for user in users:\n",
    "#         url = 'https://kr.api.riotgames.com/lol/summoner/v4/summoners/by-name/' + quotekr(user)\n",
    "#         response = requests.get(url, headers=request_header)\n",
    "\n",
    "#         if response.status_code == 200:\n",
    "#             pass\n",
    "        \n",
    "#         elif response.status_code == 429:\n",
    "#             print(\"sleep\", user, ' ', response.headers['Retry-After'])\n",
    "#             time.sleep(int(response.headers['Retry-After']) + 5)\n",
    "#             response = requests.get(url, headers=request_header)\n",
    "\n",
    "#         puuids.append(response.json()['puuid'])"
   ]
  },
  {
   "cell_type": "code",
   "execution_count": null,
   "metadata": {},
   "outputs": [],
   "source": [
    "user_puuid(grand_master_user, grand_master_puuid)\n",
    "user_puuid(diamond_user, diamond_puuid)\n",
    "user_puuid(emerald_user, emerald_puuid)\n",
    "user_puuid(platinum_user, platinum_puuid)\n",
    "user_puuid(gold_user, gold_puuid)"
   ]
  },
  {
   "cell_type": "code",
   "execution_count": null,
   "metadata": {},
   "outputs": [],
   "source": [
    "grand_master_df = pd.DataFrame({\n",
    "    'tier': ['grand_master' for i in range(5)],\n",
    "    'summoner': grand_master_user,\n",
    "    'puuid': grand_master_puuid\n",
    "    })\n",
    "\n",
    "diamond_df = pd.DataFrame({\n",
    "    'tier': ['diamond' for i in range(5)],\n",
    "    'summoner': diamond_user,\n",
    "    'puuid': diamond_puuid\n",
    "    })\n",
    "\n",
    "emerald_df = pd.DataFrame({\n",
    "    'tier': ['emerald' for i in range(5)],\n",
    "    'summoner': emerald_user,\n",
    "    'puuid': emerald_puuid\n",
    "    })\n",
    "\n",
    "platinum_df = pd.DataFrame({\n",
    "    'tier': ['platinum' for i in range(5)],\n",
    "    'summoner': platinum_user,\n",
    "    'puuid': platinum_puuid\n",
    "    })\n",
    "\n",
    "gold_df = pd.DataFrame({\n",
    "    'tier': ['gold' for i in range(5)],\n",
    "    'summoner': gold_user,\n",
    "    'puuid': gold_puuid\n",
    "    })"
   ]
  },
  {
   "cell_type": "code",
   "execution_count": null,
   "metadata": {},
   "outputs": [],
   "source": [
    "df = pd.concat([grand_master_df, diamond_df, emerald_df, platinum_df, gold_df], ignore_index=True)\n",
    "display(df.head(2))\n",
    "display(df.tail(2))"
   ]
  },
  {
   "cell_type": "code",
   "execution_count": 6,
   "metadata": {},
   "outputs": [],
   "source": [
    "df.to_excel('puuid_data2.xlsx', index=False)"
   ]
  },
  {
   "cell_type": "code",
   "execution_count": 83,
   "metadata": {},
   "outputs": [
    {
     "data": {
      "text/html": [
       "<div>\n",
       "<style scoped>\n",
       "    .dataframe tbody tr th:only-of-type {\n",
       "        vertical-align: middle;\n",
       "    }\n",
       "\n",
       "    .dataframe tbody tr th {\n",
       "        vertical-align: top;\n",
       "    }\n",
       "\n",
       "    .dataframe thead th {\n",
       "        text-align: right;\n",
       "    }\n",
       "</style>\n",
       "<table border=\"1\" class=\"dataframe\">\n",
       "  <thead>\n",
       "    <tr style=\"text-align: right;\">\n",
       "      <th></th>\n",
       "      <th>tier</th>\n",
       "      <th>summoner</th>\n",
       "      <th>puuid</th>\n",
       "    </tr>\n",
       "  </thead>\n",
       "  <tbody>\n",
       "    <tr>\n",
       "      <th>0</th>\n",
       "      <td>grand_master</td>\n",
       "      <td>줄라이77</td>\n",
       "      <td>ZPFTEsnEwgz0EfXyXbdlj3HIzoKdjLJmkM4p8v4H9EYlEW...</td>\n",
       "    </tr>\n",
       "    <tr>\n",
       "      <th>1</th>\n",
       "      <td>grand_master</td>\n",
       "      <td>바텀개</td>\n",
       "      <td>EXr7XpD4deA3djszdNHUGUOVNcRxMwC26KdDhgGE3fJk9H...</td>\n",
       "    </tr>\n",
       "  </tbody>\n",
       "</table>\n",
       "</div>"
      ],
      "text/plain": [
       "           tier summoner                                              puuid\n",
       "0  grand_master    줄라이77  ZPFTEsnEwgz0EfXyXbdlj3HIzoKdjLJmkM4p8v4H9EYlEW...\n",
       "1  grand_master      바텀개  EXr7XpD4deA3djszdNHUGUOVNcRxMwC26KdDhgGE3fJk9H..."
      ]
     },
     "metadata": {},
     "output_type": "display_data"
    },
    {
     "data": {
      "text/html": [
       "<div>\n",
       "<style scoped>\n",
       "    .dataframe tbody tr th:only-of-type {\n",
       "        vertical-align: middle;\n",
       "    }\n",
       "\n",
       "    .dataframe tbody tr th {\n",
       "        vertical-align: top;\n",
       "    }\n",
       "\n",
       "    .dataframe thead th {\n",
       "        text-align: right;\n",
       "    }\n",
       "</style>\n",
       "<table border=\"1\" class=\"dataframe\">\n",
       "  <thead>\n",
       "    <tr style=\"text-align: right;\">\n",
       "      <th></th>\n",
       "      <th>tier</th>\n",
       "      <th>summoner</th>\n",
       "      <th>puuid</th>\n",
       "    </tr>\n",
       "  </thead>\n",
       "  <tbody>\n",
       "    <tr>\n",
       "      <th>23</th>\n",
       "      <td>gold</td>\n",
       "      <td>Orangerie</td>\n",
       "      <td>lAoGAWR0v4y0QbDTOMFKjFv_LlKfh_ymsZYyHsLkrr8xGM...</td>\n",
       "    </tr>\n",
       "    <tr>\n",
       "      <th>24</th>\n",
       "      <td>gold</td>\n",
       "      <td>쥐파티</td>\n",
       "      <td>CFbEyz3fMIYwR8t9htV_iKMT0OZKNK6gw0KWLeTajCG1aw...</td>\n",
       "    </tr>\n",
       "  </tbody>\n",
       "</table>\n",
       "</div>"
      ],
      "text/plain": [
       "    tier   summoner                                              puuid\n",
       "23  gold  Orangerie  lAoGAWR0v4y0QbDTOMFKjFv_LlKfh_ymsZYyHsLkrr8xGM...\n",
       "24  gold        쥐파티  CFbEyz3fMIYwR8t9htV_iKMT0OZKNK6gw0KWLeTajCG1aw..."
      ]
     },
     "metadata": {},
     "output_type": "display_data"
    }
   ],
   "source": [
    "df = pd.read_excel('puuid_data2.xlsx')\n",
    "display(df.head(2))\n",
    "display(df.tail(2))\n"
   ]
  },
  {
   "cell_type": "code",
   "execution_count": 84,
   "metadata": {},
   "outputs": [
    {
     "data": {
      "text/html": [
       "<div>\n",
       "<style scoped>\n",
       "    .dataframe tbody tr th:only-of-type {\n",
       "        vertical-align: middle;\n",
       "    }\n",
       "\n",
       "    .dataframe tbody tr th {\n",
       "        vertical-align: top;\n",
       "    }\n",
       "\n",
       "    .dataframe thead th {\n",
       "        text-align: right;\n",
       "    }\n",
       "</style>\n",
       "<table border=\"1\" class=\"dataframe\">\n",
       "  <thead>\n",
       "    <tr style=\"text-align: right;\">\n",
       "      <th></th>\n",
       "      <th>tier</th>\n",
       "      <th>summoner</th>\n",
       "      <th>puuid</th>\n",
       "    </tr>\n",
       "  </thead>\n",
       "  <tbody>\n",
       "    <tr>\n",
       "      <th>10</th>\n",
       "      <td>emerald</td>\n",
       "      <td>정의는 승리한다v</td>\n",
       "      <td>wXvN9TJlkwSje56uoPtofaIgEoVCUGD63Hewfjw0GjpHO0...</td>\n",
       "    </tr>\n",
       "    <tr>\n",
       "      <th>11</th>\n",
       "      <td>emerald</td>\n",
       "      <td>no return0</td>\n",
       "      <td>GqsVg3QvhFw--4L0ascFso9yMh0eKrz9FdKtCf_leW4UOm...</td>\n",
       "    </tr>\n",
       "    <tr>\n",
       "      <th>12</th>\n",
       "      <td>emerald</td>\n",
       "      <td>Cigar3</td>\n",
       "      <td>eS7tRJlBcG3HdFA9LH0zq1s1wXzwMHKRgnQFMWYvwsf0Fk...</td>\n",
       "    </tr>\n",
       "    <tr>\n",
       "      <th>13</th>\n",
       "      <td>emerald</td>\n",
       "      <td>김잼니</td>\n",
       "      <td>LiQXFaJ4mVIhWVm511xSCIs6MS86Dt_awK6InfFBVKYgjZ...</td>\n",
       "    </tr>\n",
       "    <tr>\n",
       "      <th>14</th>\n",
       "      <td>emerald</td>\n",
       "      <td>Asnm</td>\n",
       "      <td>ev4ifUpwp6BDTaM8r2UERk6flI2aqfprAfUHho3M8rPPey...</td>\n",
       "    </tr>\n",
       "    <tr>\n",
       "      <th>15</th>\n",
       "      <td>platinum</td>\n",
       "      <td>협곡의 맙소사</td>\n",
       "      <td>tehmv7dX7eC5ZTZZjrzVIsTMBCb7J07UVBSQjSYK-5PoUJ...</td>\n",
       "    </tr>\n",
       "  </tbody>\n",
       "</table>\n",
       "</div>"
      ],
      "text/plain": [
       "        tier    summoner                                              puuid\n",
       "10   emerald   정의는 승리한다v  wXvN9TJlkwSje56uoPtofaIgEoVCUGD63Hewfjw0GjpHO0...\n",
       "11   emerald  no return0  GqsVg3QvhFw--4L0ascFso9yMh0eKrz9FdKtCf_leW4UOm...\n",
       "12   emerald      Cigar3  eS7tRJlBcG3HdFA9LH0zq1s1wXzwMHKRgnQFMWYvwsf0Fk...\n",
       "13   emerald         김잼니  LiQXFaJ4mVIhWVm511xSCIs6MS86Dt_awK6InfFBVKYgjZ...\n",
       "14   emerald        Asnm  ev4ifUpwp6BDTaM8r2UERk6flI2aqfprAfUHho3M8rPPey...\n",
       "15  platinum     협곡의 맙소사  tehmv7dX7eC5ZTZZjrzVIsTMBCb7J07UVBSQjSYK-5PoUJ..."
      ]
     },
     "execution_count": 84,
     "metadata": {},
     "output_type": "execute_result"
    }
   ],
   "source": [
    "df.loc[10:15]"
   ]
  },
  {
   "cell_type": "code",
   "execution_count": 5,
   "metadata": {},
   "outputs": [
    {
     "data": {
      "text/html": [
       "<div>\n",
       "<style scoped>\n",
       "    .dataframe tbody tr th:only-of-type {\n",
       "        vertical-align: middle;\n",
       "    }\n",
       "\n",
       "    .dataframe tbody tr th {\n",
       "        vertical-align: top;\n",
       "    }\n",
       "\n",
       "    .dataframe thead th {\n",
       "        text-align: right;\n",
       "    }\n",
       "</style>\n",
       "<table border=\"1\" class=\"dataframe\">\n",
       "  <thead>\n",
       "    <tr style=\"text-align: right;\">\n",
       "      <th></th>\n",
       "      <th>tier</th>\n",
       "      <th>summoner</th>\n",
       "      <th>puuid</th>\n",
       "    </tr>\n",
       "  </thead>\n",
       "  <tbody>\n",
       "    <tr>\n",
       "      <th>10</th>\n",
       "      <td>emerald</td>\n",
       "      <td>정의는 승리한다v</td>\n",
       "      <td>wXvN9TJlkwSje56uoPtofaIgEoVCUGD63Hewfjw0GjpHO0...</td>\n",
       "    </tr>\n",
       "    <tr>\n",
       "      <th>11</th>\n",
       "      <td>emerald</td>\n",
       "      <td>no return0</td>\n",
       "      <td>GqsVg3QvhFw--4L0ascFso9yMh0eKrz9FdKtCf_leW4UOm...</td>\n",
       "    </tr>\n",
       "    <tr>\n",
       "      <th>12</th>\n",
       "      <td>emerald</td>\n",
       "      <td>Cigar3</td>\n",
       "      <td>eS7tRJlBcG3HdFA9LH0zq1s1wXzwMHKRgnQFMWYvwsf0Fk...</td>\n",
       "    </tr>\n",
       "    <tr>\n",
       "      <th>13</th>\n",
       "      <td>emerald</td>\n",
       "      <td>김잼니</td>\n",
       "      <td>LiQXFaJ4mVIhWVm511xSCIs6MS86Dt_awK6InfFBVKYgjZ...</td>\n",
       "    </tr>\n",
       "    <tr>\n",
       "      <th>14</th>\n",
       "      <td>emerald</td>\n",
       "      <td>Asnm</td>\n",
       "      <td>ev4ifUpwp6BDTaM8r2UERk6flI2aqfprAfUHho3M8rPPey...</td>\n",
       "    </tr>\n",
       "    <tr>\n",
       "      <th>15</th>\n",
       "      <td>platinum</td>\n",
       "      <td>협곡의 맙소사</td>\n",
       "      <td>tehmv7dX7eC5ZTZZjrzVIsTMBCb7J07UVBSQjSYK-5PoUJ...</td>\n",
       "    </tr>\n",
       "  </tbody>\n",
       "</table>\n",
       "</div>"
      ],
      "text/plain": [
       "        tier    summoner                                              puuid\n",
       "10   emerald   정의는 승리한다v  wXvN9TJlkwSje56uoPtofaIgEoVCUGD63Hewfjw0GjpHO0...\n",
       "11   emerald  no return0  GqsVg3QvhFw--4L0ascFso9yMh0eKrz9FdKtCf_leW4UOm...\n",
       "12   emerald      Cigar3  eS7tRJlBcG3HdFA9LH0zq1s1wXzwMHKRgnQFMWYvwsf0Fk...\n",
       "13   emerald         김잼니  LiQXFaJ4mVIhWVm511xSCIs6MS86Dt_awK6InfFBVKYgjZ...\n",
       "14   emerald        Asnm  ev4ifUpwp6BDTaM8r2UERk6flI2aqfprAfUHho3M8rPPey...\n",
       "15  platinum     협곡의 맙소사  tehmv7dX7eC5ZTZZjrzVIsTMBCb7J07UVBSQjSYK-5PoUJ..."
      ]
     },
     "execution_count": 5,
     "metadata": {},
     "output_type": "execute_result"
    }
   ],
   "source": [
    "# 주희보고싶은민교\n",
    "# 포지션 변경으로 적정 데이터 수집 불가, 소환사 변경\n",
    "df.loc[13] = ['emerald', '김잼니', 'LiQXFaJ4mVIhWVm511xSCIs6MS86Dt_awK6InfFBVKYgjZ_Tt-Ldzc1z7m2Q5iee8Ooj-17HEqn0qg']\n",
    "df.loc[10:15]"
   ]
  },
  {
   "cell_type": "markdown",
   "metadata": {},
   "source": [
    "#### 데이터 수집\n",
    "* '바텀 게임' 이라는 말이 줄기 시작한 13.6패치가 3월 중순\n",
    "* 1주일에 랭크게임 5판 한다고 가정\n",
    "* 현재 8월 말이므로 약 20주\n",
    "* 100게임 이전 인당 10판"
   ]
  },
  {
   "cell_type": "code",
   "execution_count": 8,
   "metadata": {},
   "outputs": [],
   "source": [
    "def find_partiId(mat_data_resp, puuid):\n",
    "    return mat_data_resp.json()['metadata']['participants'].index(puuid)"
   ]
  },
  {
   "cell_type": "code",
   "execution_count": 15,
   "metadata": {},
   "outputs": [],
   "source": [
    "def puuid_to_matchid(puuid):\n",
    "    match_ids = []\n",
    "    start = 120\n",
    "    count = 40\n",
    "    retry_count = 0\n",
    "\n",
    "    while len(match_ids) < 10: # 10경기 추출\n",
    "        matches_url = f'https://asia.api.riotgames.com/lol/match/v5/matches/by-puuid/{puuid}/ids?start={start}&count={count}'\n",
    "        match_list_resp = requests.get(matches_url, headers=request_header)\n",
    "\n",
    "        while match_list_resp.status_code == 429: # Rate limit exceed\n",
    "            print(retry_count, \" sleep match_list\", match_list_resp.headers['Retry-After'])\n",
    "            retry_count += 1\n",
    "            time.sleep(int(match_list_resp.headers['Retry-After']) + 5)\n",
    "            match_list_resp = requests.get(matches_url, headers=request_header)\n",
    "\n",
    "        if match_list_resp.status_code == 200:\n",
    "            for mat_id in match_list_resp.json():\n",
    "                if len(match_ids) == 10:\n",
    "                    break\n",
    "\n",
    "                mat_url = 'https://asia.api.riotgames.com/lol/match/v5/matches/' + mat_id\n",
    "                mat_data_resp = requests.get(mat_url, headers=request_header)\n",
    "\n",
    "                while mat_data_resp.status_code == 429: # Rate limit exceed\n",
    "                    print(retry_count, \" sleep mat_data\", mat_data_resp.headers['Retry-After'])\n",
    "                    retry_count += 1\n",
    "                    time.sleep(int(mat_data_resp.headers['Retry-After']) + 5)\n",
    "                    mat_data_resp = requests.get(mat_url, headers=request_header)\n",
    "\n",
    "                if mat_data_resp.status_code == 200:\n",
    "                    if mat_data_resp.json()['info']['gameMode'] == 'CLASSIC' \\\n",
    "                        and len(mat_data_resp.json()['info']['teams'][0]['bans']) > 0 \\\n",
    "                        and mat_data_resp.json()['info']['participants'][0]['gameEndedInEarlySurrender'] == False \\\n",
    "                        and mat_data_resp.json()['info']['gameDuration'] > 1500 \\\n",
    "                        and mat_data_resp.json()['info']['participants'][find_partiId(mat_data_resp, puuid)]['teamPosition'] == 'BOTTOM':\n",
    "                        # 소환사 협곡\n",
    "                        # 밴이 있음\n",
    "                        # 재시작 경기 x\n",
    "                        # 15분 이상\n",
    "                        # 해당 소환사가 바텀라인\n",
    "\n",
    "                        match_ids.append(mat_id)\n",
    "                        retry_count = 0\n",
    "\n",
    "                else:\n",
    "                    print('\\n\\terror ', mat_data_resp.status_code)\n",
    "                    print('\\t', puuid)\n",
    "                    break\n",
    "\n",
    "            start += count\n",
    "\n",
    "        else:\n",
    "            print('\\n\\terror ', match_list_resp.status_code)\n",
    "            print('\\t', match_ids)\n",
    "            break\n",
    "\n",
    "    return match_ids"
   ]
  },
  {
   "cell_type": "code",
   "execution_count": 10,
   "metadata": {},
   "outputs": [
    {
     "data": {
      "text/html": [
       "<div>\n",
       "<style scoped>\n",
       "    .dataframe tbody tr th:only-of-type {\n",
       "        vertical-align: middle;\n",
       "    }\n",
       "\n",
       "    .dataframe tbody tr th {\n",
       "        vertical-align: top;\n",
       "    }\n",
       "\n",
       "    .dataframe thead th {\n",
       "        text-align: right;\n",
       "    }\n",
       "</style>\n",
       "<table border=\"1\" class=\"dataframe\">\n",
       "  <thead>\n",
       "    <tr style=\"text-align: right;\">\n",
       "      <th></th>\n",
       "      <th>match1</th>\n",
       "      <th>match2</th>\n",
       "      <th>match3</th>\n",
       "      <th>match4</th>\n",
       "      <th>match5</th>\n",
       "      <th>match6</th>\n",
       "      <th>match7</th>\n",
       "      <th>match8</th>\n",
       "      <th>match9</th>\n",
       "      <th>match10</th>\n",
       "    </tr>\n",
       "  </thead>\n",
       "  <tbody>\n",
       "  </tbody>\n",
       "</table>\n",
       "</div>"
      ],
      "text/plain": [
       "Empty DataFrame\n",
       "Columns: [match1, match2, match3, match4, match5, match6, match7, match8, match9, match10]\n",
       "Index: []"
      ]
     },
     "execution_count": 10,
     "metadata": {},
     "output_type": "execute_result"
    }
   ],
   "source": [
    "col = [('match' + str(x)) for x in range(1, 11)]\n",
    "df_puuid = pd.DataFrame(columns=col)\n",
    "df_puuid"
   ]
  },
  {
   "cell_type": "code",
   "execution_count": 11,
   "metadata": {},
   "outputs": [
    {
     "data": {
      "text/html": [
       "<div>\n",
       "<style scoped>\n",
       "    .dataframe tbody tr th:only-of-type {\n",
       "        vertical-align: middle;\n",
       "    }\n",
       "\n",
       "    .dataframe tbody tr th {\n",
       "        vertical-align: top;\n",
       "    }\n",
       "\n",
       "    .dataframe thead th {\n",
       "        text-align: right;\n",
       "    }\n",
       "</style>\n",
       "<table border=\"1\" class=\"dataframe\">\n",
       "  <thead>\n",
       "    <tr style=\"text-align: right;\">\n",
       "      <th></th>\n",
       "      <th>tier</th>\n",
       "      <th>summoner</th>\n",
       "      <th>puuid</th>\n",
       "    </tr>\n",
       "  </thead>\n",
       "  <tbody>\n",
       "    <tr>\n",
       "      <th>0</th>\n",
       "      <td>grand_master</td>\n",
       "      <td>줄라이77</td>\n",
       "      <td>ZPFTEsnEwgz0EfXyXbdlj3HIzoKdjLJmkM4p8v4H9EYlEW...</td>\n",
       "    </tr>\n",
       "    <tr>\n",
       "      <th>1</th>\n",
       "      <td>grand_master</td>\n",
       "      <td>바텀개</td>\n",
       "      <td>EXr7XpD4deA3djszdNHUGUOVNcRxMwC26KdDhgGE3fJk9H...</td>\n",
       "    </tr>\n",
       "  </tbody>\n",
       "</table>\n",
       "</div>"
      ],
      "text/plain": [
       "           tier summoner                                              puuid\n",
       "0  grand_master    줄라이77  ZPFTEsnEwgz0EfXyXbdlj3HIzoKdjLJmkM4p8v4H9EYlEW...\n",
       "1  grand_master      바텀개  EXr7XpD4deA3djszdNHUGUOVNcRxMwC26KdDhgGE3fJk9H..."
      ]
     },
     "metadata": {},
     "output_type": "display_data"
    },
    {
     "data": {
      "text/html": [
       "<div>\n",
       "<style scoped>\n",
       "    .dataframe tbody tr th:only-of-type {\n",
       "        vertical-align: middle;\n",
       "    }\n",
       "\n",
       "    .dataframe tbody tr th {\n",
       "        vertical-align: top;\n",
       "    }\n",
       "\n",
       "    .dataframe thead th {\n",
       "        text-align: right;\n",
       "    }\n",
       "</style>\n",
       "<table border=\"1\" class=\"dataframe\">\n",
       "  <thead>\n",
       "    <tr style=\"text-align: right;\">\n",
       "      <th></th>\n",
       "      <th>tier</th>\n",
       "      <th>summoner</th>\n",
       "      <th>puuid</th>\n",
       "    </tr>\n",
       "  </thead>\n",
       "  <tbody>\n",
       "    <tr>\n",
       "      <th>23</th>\n",
       "      <td>gold</td>\n",
       "      <td>Orangerie</td>\n",
       "      <td>lAoGAWR0v4y0QbDTOMFKjFv_LlKfh_ymsZYyHsLkrr8xGM...</td>\n",
       "    </tr>\n",
       "    <tr>\n",
       "      <th>24</th>\n",
       "      <td>gold</td>\n",
       "      <td>쥐파티</td>\n",
       "      <td>CFbEyz3fMIYwR8t9htV_iKMT0OZKNK6gw0KWLeTajCG1aw...</td>\n",
       "    </tr>\n",
       "  </tbody>\n",
       "</table>\n",
       "</div>"
      ],
      "text/plain": [
       "    tier   summoner                                              puuid\n",
       "23  gold  Orangerie  lAoGAWR0v4y0QbDTOMFKjFv_LlKfh_ymsZYyHsLkrr8xGM...\n",
       "24  gold        쥐파티  CFbEyz3fMIYwR8t9htV_iKMT0OZKNK6gw0KWLeTajCG1aw..."
      ]
     },
     "metadata": {},
     "output_type": "display_data"
    }
   ],
   "source": [
    "display(df.head(2))\n",
    "display(df.tail(2))"
   ]
  },
  {
   "cell_type": "code",
   "execution_count": 16,
   "metadata": {},
   "outputs": [
    {
     "name": "stdout",
     "output_type": "stream",
     "text": [
      "0  sleep match_list 41\n",
      "0  sleep mat_data 90\n",
      "0  sleep mat_data 88\n",
      "0  sleep mat_data 88\n",
      "0  sleep mat_data 88\n",
      "0  sleep mat_data 89\n",
      "0  sleep mat_data 88\n",
      "0  sleep mat_data 88\n",
      "0  sleep mat_data 88\n",
      "0  sleep mat_data 89\n"
     ]
    }
   ],
   "source": [
    "for puuid in df['puuid']:\n",
    "    matchid_list = puuid_to_matchid(puuid)\n",
    "    df_mid = pd.DataFrame([matchid_list[::-1]], columns=col)\n",
    "    df_puuid = pd.concat([df_puuid, df_mid], ignore_index=True)"
   ]
  },
  {
   "cell_type": "code",
   "execution_count": 73,
   "metadata": {},
   "outputs": [],
   "source": [
    "df_puuid2 = df_puuid.drop([0, 1, 2], axis=0).reset_index(drop=True)"
   ]
  },
  {
   "cell_type": "code",
   "execution_count": 78,
   "metadata": {},
   "outputs": [],
   "source": [
    "df_puuid2.to_excel('df_puuid2.xlsx', index=False)"
   ]
  },
  {
   "cell_type": "code",
   "execution_count": 74,
   "metadata": {},
   "outputs": [
    {
     "name": "stdout",
     "output_type": "stream",
     "text": [
      "\t 이게마리되니 -> 줄라이77\n",
      "0 바텀개\n",
      "1 always crying\n",
      "2 침대위섹시카이팅\n",
      "\t 리미리미치치 -> 미드KING\n",
      "3 세혀닝\n",
      "\t 나는 존재 그자체 -> 강한남자한만윤\n",
      "4 FEARN0T\n",
      "5 잘해봐요괜찮아요\n",
      "6 쿠로미짱이현\n",
      "7 정의는 승리한다v\n",
      "\t 내진가를나만알아 -> no return0\n",
      "8 Cigar3\n",
      "9 김잼니\n",
      "10 Asnm\n",
      "11 협곡의 맙소사\n",
      "12 엄딴식\n",
      "\t JSH빡빡이 -> 지구뚝배기\n",
      "13 08년생 큐티정민\n",
      "14 Gucci Vs\n",
      "15 루픠는못말려\n",
      "16 홍구형\n",
      "\t 바텀갱은 언제와 -> 카이팅의 귀재\n",
      "17 Orangerie\n",
      "18 쥐파티\n"
     ]
    }
   ],
   "source": [
    "# 닉네임 변경한 유저\n",
    "name_list = list(df['summoner'])\n",
    "count = 0\n",
    "flag = False\n",
    "changed = []\n",
    "\n",
    "for mid in df_puuid2['match1']:\n",
    "    url = 'https://asia.api.riotgames.com/lol/match/v5/matches/' + mid\n",
    "    response = requests.get(url, headers=request_header)\n",
    "    for parti in response.json()['info']['participants']:\n",
    "        if parti['summonerName'] in name_list:\n",
    "            print(count, parti['summonerName'])\n",
    "            count += 1\n",
    "            flag = True\n",
    "            break\n",
    "\n",
    "    if flag == False:\n",
    "        users = response.json()['info']['participants']\n",
    "        bottom1 = users[3]\n",
    "        bottom2 = users[8]\n",
    "\n",
    "        for pud in list(df['puuid']):\n",
    "            if bottom1['puuid'] == pud:\n",
    "                previous_name = bottom1['summonerName']\n",
    "                current_name = list(df[df['puuid'] == pud]['summoner'])[0]\n",
    "\n",
    "                print('\\t', previous_name, '->', current_name)\n",
    "                changed.append([mid, previous_name, current_name])\n",
    "\n",
    "            elif bottom2['puuid'] == pud:\n",
    "                previous_name = bottom2['summonerName']\n",
    "                current_name = list(df[df['puuid'] == pud]['summoner'])[0]\n",
    "\n",
    "                print('\\t', previous_name, '->', current_name)\n",
    "                changed.append([mid, previous_name, current_name])\n",
    "        \n",
    "    flag = False\n"
   ]
  },
  {
   "cell_type": "code",
   "execution_count": 75,
   "metadata": {},
   "outputs": [
    {
     "data": {
      "text/plain": [
       "[['KR_6611771034', '이게마리되니', '줄라이77'],\n",
       " ['KR_6581173722', '리미리미치치', '미드KING'],\n",
       " ['KR_6340571266', '나는 존재 그자체', '강한남자한만윤'],\n",
       " ['KR_6638713091', '내진가를나만알아', 'no return0'],\n",
       " ['KR_6523800400', 'JSH빡빡이', '지구뚝배기'],\n",
       " ['KR_6607652805', '바텀갱은 언제와', '카이팅의 귀재']]"
      ]
     },
     "execution_count": 75,
     "metadata": {},
     "output_type": "execute_result"
    }
   ],
   "source": [
    "changed"
   ]
  },
  {
   "cell_type": "code",
   "execution_count": 86,
   "metadata": {},
   "outputs": [
    {
     "name": "stdout",
     "output_type": "stream",
     "text": [
      "['이게마리되니', '바텀개', 'always crying', '침대위섹시카이팅', '리미리미치치', '세혀닝', '나는 존재 그자체', 'FEARN0T', '잘해봐요괜찮아요', '쿠로미짱이현', '정의는 승리한다v', '내진가를나만알아', 'Cigar3', '김잼니', 'Asnm', '협곡의 맙소사', '엄딴식', 'JSH빡빡이', '08년생 큐티정민', 'Gucci Vs', '루픠는못말려', '홍구형', '바텀갱은 언제와', 'Orangerie', '쥐파티']\n"
     ]
    }
   ],
   "source": [
    "previous_name = []\n",
    "flag = False\n",
    "\n",
    "for summoner in list(df['summoner']):\n",
    "    for mid, prev, curr in changed:\n",
    "        if summoner == curr:\n",
    "            previous_name.append(prev)\n",
    "            flag = True\n",
    "\n",
    "    if flag == False:\n",
    "        previous_name.append(summoner)\n",
    "    \n",
    "    flag = False\n",
    "\n",
    "print(previous_name)"
   ]
  },
  {
   "cell_type": "code",
   "execution_count": 87,
   "metadata": {},
   "outputs": [
    {
     "data": {
      "text/html": [
       "<div>\n",
       "<style scoped>\n",
       "    .dataframe tbody tr th:only-of-type {\n",
       "        vertical-align: middle;\n",
       "    }\n",
       "\n",
       "    .dataframe tbody tr th {\n",
       "        vertical-align: top;\n",
       "    }\n",
       "\n",
       "    .dataframe thead th {\n",
       "        text-align: right;\n",
       "    }\n",
       "</style>\n",
       "<table border=\"1\" class=\"dataframe\">\n",
       "  <thead>\n",
       "    <tr style=\"text-align: right;\">\n",
       "      <th></th>\n",
       "      <th>tier</th>\n",
       "      <th>summoner</th>\n",
       "      <th>previous_summoner_name</th>\n",
       "      <th>puuid</th>\n",
       "    </tr>\n",
       "  </thead>\n",
       "  <tbody>\n",
       "    <tr>\n",
       "      <th>0</th>\n",
       "      <td>grand_master</td>\n",
       "      <td>줄라이77</td>\n",
       "      <td>이게마리되니</td>\n",
       "      <td>ZPFTEsnEwgz0EfXyXbdlj3HIzoKdjLJmkM4p8v4H9EYlEW...</td>\n",
       "    </tr>\n",
       "    <tr>\n",
       "      <th>1</th>\n",
       "      <td>grand_master</td>\n",
       "      <td>바텀개</td>\n",
       "      <td>바텀개</td>\n",
       "      <td>EXr7XpD4deA3djszdNHUGUOVNcRxMwC26KdDhgGE3fJk9H...</td>\n",
       "    </tr>\n",
       "    <tr>\n",
       "      <th>2</th>\n",
       "      <td>grand_master</td>\n",
       "      <td>always crying</td>\n",
       "      <td>always crying</td>\n",
       "      <td>wBQaUzCDHu1SyLD330DHqGeJeFo3PhDeaYeyjlgqyp7SG0...</td>\n",
       "    </tr>\n",
       "    <tr>\n",
       "      <th>3</th>\n",
       "      <td>grand_master</td>\n",
       "      <td>침대위섹시카이팅</td>\n",
       "      <td>침대위섹시카이팅</td>\n",
       "      <td>4ZSpLbeybSbDG-s52ZQSsxQdGvtQbKZdvf_B-UwZ3P1_DJ...</td>\n",
       "    </tr>\n",
       "    <tr>\n",
       "      <th>4</th>\n",
       "      <td>grand_master</td>\n",
       "      <td>미드KING</td>\n",
       "      <td>리미리미치치</td>\n",
       "      <td>xr50XOMRd-wO_P8iKDaPiz1G45o15o8atDxQq8LDqrLxQY...</td>\n",
       "    </tr>\n",
       "    <tr>\n",
       "      <th>5</th>\n",
       "      <td>diamond</td>\n",
       "      <td>세혀닝</td>\n",
       "      <td>세혀닝</td>\n",
       "      <td>Q5YNI7bq1mrMB00HaWSomEW-A52vhXj9THL3pFS6b4sxQn...</td>\n",
       "    </tr>\n",
       "    <tr>\n",
       "      <th>6</th>\n",
       "      <td>diamond</td>\n",
       "      <td>강한남자한만윤</td>\n",
       "      <td>나는 존재 그자체</td>\n",
       "      <td>fybIOHNUpFHR4TcPoC8vyhKxVrYsZqV9ornEHNqL3ajkIn...</td>\n",
       "    </tr>\n",
       "    <tr>\n",
       "      <th>7</th>\n",
       "      <td>diamond</td>\n",
       "      <td>FEARN0T</td>\n",
       "      <td>FEARN0T</td>\n",
       "      <td>oZ4b0WJY2fP71MYT8BOpzUBSxUHG7pBloo-aGMWYzS09Q3...</td>\n",
       "    </tr>\n",
       "    <tr>\n",
       "      <th>8</th>\n",
       "      <td>diamond</td>\n",
       "      <td>잘해봐요괜찮아요</td>\n",
       "      <td>잘해봐요괜찮아요</td>\n",
       "      <td>2r4JbtA47RsnOICJJ1VjKO8-ogfvy5QytzAHTmKOyolaLq...</td>\n",
       "    </tr>\n",
       "    <tr>\n",
       "      <th>9</th>\n",
       "      <td>diamond</td>\n",
       "      <td>쿠로미짱이현</td>\n",
       "      <td>쿠로미짱이현</td>\n",
       "      <td>c3jkQfup6vcyiaLtTT0a5IZlHgiF40sq0v1MvGE2Pm6hib...</td>\n",
       "    </tr>\n",
       "    <tr>\n",
       "      <th>10</th>\n",
       "      <td>emerald</td>\n",
       "      <td>정의는 승리한다v</td>\n",
       "      <td>정의는 승리한다v</td>\n",
       "      <td>wXvN9TJlkwSje56uoPtofaIgEoVCUGD63Hewfjw0GjpHO0...</td>\n",
       "    </tr>\n",
       "    <tr>\n",
       "      <th>11</th>\n",
       "      <td>emerald</td>\n",
       "      <td>no return0</td>\n",
       "      <td>내진가를나만알아</td>\n",
       "      <td>GqsVg3QvhFw--4L0ascFso9yMh0eKrz9FdKtCf_leW4UOm...</td>\n",
       "    </tr>\n",
       "    <tr>\n",
       "      <th>12</th>\n",
       "      <td>emerald</td>\n",
       "      <td>Cigar3</td>\n",
       "      <td>Cigar3</td>\n",
       "      <td>eS7tRJlBcG3HdFA9LH0zq1s1wXzwMHKRgnQFMWYvwsf0Fk...</td>\n",
       "    </tr>\n",
       "    <tr>\n",
       "      <th>13</th>\n",
       "      <td>emerald</td>\n",
       "      <td>김잼니</td>\n",
       "      <td>김잼니</td>\n",
       "      <td>LiQXFaJ4mVIhWVm511xSCIs6MS86Dt_awK6InfFBVKYgjZ...</td>\n",
       "    </tr>\n",
       "    <tr>\n",
       "      <th>14</th>\n",
       "      <td>emerald</td>\n",
       "      <td>Asnm</td>\n",
       "      <td>Asnm</td>\n",
       "      <td>ev4ifUpwp6BDTaM8r2UERk6flI2aqfprAfUHho3M8rPPey...</td>\n",
       "    </tr>\n",
       "    <tr>\n",
       "      <th>15</th>\n",
       "      <td>platinum</td>\n",
       "      <td>협곡의 맙소사</td>\n",
       "      <td>협곡의 맙소사</td>\n",
       "      <td>tehmv7dX7eC5ZTZZjrzVIsTMBCb7J07UVBSQjSYK-5PoUJ...</td>\n",
       "    </tr>\n",
       "    <tr>\n",
       "      <th>16</th>\n",
       "      <td>platinum</td>\n",
       "      <td>엄딴식</td>\n",
       "      <td>엄딴식</td>\n",
       "      <td>nWD_BJ1Bn98OkxtHrcws1Jz5ctFJ2xsSrA0OvDc6PWIVGq...</td>\n",
       "    </tr>\n",
       "    <tr>\n",
       "      <th>17</th>\n",
       "      <td>platinum</td>\n",
       "      <td>지구뚝배기</td>\n",
       "      <td>JSH빡빡이</td>\n",
       "      <td>Uyh5vclDlEDyrIXMjKD3clT7wbG92qq3mZlVCifaKENDVb...</td>\n",
       "    </tr>\n",
       "    <tr>\n",
       "      <th>18</th>\n",
       "      <td>platinum</td>\n",
       "      <td>08년생 큐티정민</td>\n",
       "      <td>08년생 큐티정민</td>\n",
       "      <td>HouaHvQyx4Kefg17QS2qi97LEcerzFiVlu1svzmkntlvgk...</td>\n",
       "    </tr>\n",
       "    <tr>\n",
       "      <th>19</th>\n",
       "      <td>platinum</td>\n",
       "      <td>Gucci Vs</td>\n",
       "      <td>Gucci Vs</td>\n",
       "      <td>Fq1A64S1uKxS7XYm0aTwP5bcI88EKIt9Ld7iStvmtyB43Y...</td>\n",
       "    </tr>\n",
       "    <tr>\n",
       "      <th>20</th>\n",
       "      <td>gold</td>\n",
       "      <td>루픠는못말려</td>\n",
       "      <td>루픠는못말려</td>\n",
       "      <td>Kf7RUV7nOSiqQ_jHKIrhcUWLUxt-XNseED9aEl5LDV1APT...</td>\n",
       "    </tr>\n",
       "    <tr>\n",
       "      <th>21</th>\n",
       "      <td>gold</td>\n",
       "      <td>홍구형</td>\n",
       "      <td>홍구형</td>\n",
       "      <td>6ACA-XanXWYRdej-omBrnlM-ziv_txp6U-5oKmtLr0yqhu...</td>\n",
       "    </tr>\n",
       "    <tr>\n",
       "      <th>22</th>\n",
       "      <td>gold</td>\n",
       "      <td>카이팅의 귀재</td>\n",
       "      <td>바텀갱은 언제와</td>\n",
       "      <td>NpPspwOHeTBXQLvGH3q-1w9cOqy5D12CK50YMppRW_2GlG...</td>\n",
       "    </tr>\n",
       "    <tr>\n",
       "      <th>23</th>\n",
       "      <td>gold</td>\n",
       "      <td>Orangerie</td>\n",
       "      <td>Orangerie</td>\n",
       "      <td>lAoGAWR0v4y0QbDTOMFKjFv_LlKfh_ymsZYyHsLkrr8xGM...</td>\n",
       "    </tr>\n",
       "    <tr>\n",
       "      <th>24</th>\n",
       "      <td>gold</td>\n",
       "      <td>쥐파티</td>\n",
       "      <td>쥐파티</td>\n",
       "      <td>CFbEyz3fMIYwR8t9htV_iKMT0OZKNK6gw0KWLeTajCG1aw...</td>\n",
       "    </tr>\n",
       "  </tbody>\n",
       "</table>\n",
       "</div>"
      ],
      "text/plain": [
       "            tier       summoner previous_summoner_name  \\\n",
       "0   grand_master          줄라이77                 이게마리되니   \n",
       "1   grand_master            바텀개                    바텀개   \n",
       "2   grand_master  always crying          always crying   \n",
       "3   grand_master       침대위섹시카이팅               침대위섹시카이팅   \n",
       "4   grand_master         미드KING                 리미리미치치   \n",
       "5        diamond            세혀닝                    세혀닝   \n",
       "6        diamond        강한남자한만윤              나는 존재 그자체   \n",
       "7        diamond        FEARN0T                FEARN0T   \n",
       "8        diamond       잘해봐요괜찮아요               잘해봐요괜찮아요   \n",
       "9        diamond         쿠로미짱이현                 쿠로미짱이현   \n",
       "10       emerald      정의는 승리한다v              정의는 승리한다v   \n",
       "11       emerald     no return0               내진가를나만알아   \n",
       "12       emerald         Cigar3                 Cigar3   \n",
       "13       emerald            김잼니                    김잼니   \n",
       "14       emerald           Asnm                   Asnm   \n",
       "15      platinum        협곡의 맙소사                협곡의 맙소사   \n",
       "16      platinum            엄딴식                    엄딴식   \n",
       "17      platinum          지구뚝배기                 JSH빡빡이   \n",
       "18      platinum      08년생 큐티정민              08년생 큐티정민   \n",
       "19      platinum       Gucci Vs               Gucci Vs   \n",
       "20          gold         루픠는못말려                 루픠는못말려   \n",
       "21          gold            홍구형                    홍구형   \n",
       "22          gold        카이팅의 귀재               바텀갱은 언제와   \n",
       "23          gold      Orangerie              Orangerie   \n",
       "24          gold            쥐파티                    쥐파티   \n",
       "\n",
       "                                                puuid  \n",
       "0   ZPFTEsnEwgz0EfXyXbdlj3HIzoKdjLJmkM4p8v4H9EYlEW...  \n",
       "1   EXr7XpD4deA3djszdNHUGUOVNcRxMwC26KdDhgGE3fJk9H...  \n",
       "2   wBQaUzCDHu1SyLD330DHqGeJeFo3PhDeaYeyjlgqyp7SG0...  \n",
       "3   4ZSpLbeybSbDG-s52ZQSsxQdGvtQbKZdvf_B-UwZ3P1_DJ...  \n",
       "4   xr50XOMRd-wO_P8iKDaPiz1G45o15o8atDxQq8LDqrLxQY...  \n",
       "5   Q5YNI7bq1mrMB00HaWSomEW-A52vhXj9THL3pFS6b4sxQn...  \n",
       "6   fybIOHNUpFHR4TcPoC8vyhKxVrYsZqV9ornEHNqL3ajkIn...  \n",
       "7   oZ4b0WJY2fP71MYT8BOpzUBSxUHG7pBloo-aGMWYzS09Q3...  \n",
       "8   2r4JbtA47RsnOICJJ1VjKO8-ogfvy5QytzAHTmKOyolaLq...  \n",
       "9   c3jkQfup6vcyiaLtTT0a5IZlHgiF40sq0v1MvGE2Pm6hib...  \n",
       "10  wXvN9TJlkwSje56uoPtofaIgEoVCUGD63Hewfjw0GjpHO0...  \n",
       "11  GqsVg3QvhFw--4L0ascFso9yMh0eKrz9FdKtCf_leW4UOm...  \n",
       "12  eS7tRJlBcG3HdFA9LH0zq1s1wXzwMHKRgnQFMWYvwsf0Fk...  \n",
       "13  LiQXFaJ4mVIhWVm511xSCIs6MS86Dt_awK6InfFBVKYgjZ...  \n",
       "14  ev4ifUpwp6BDTaM8r2UERk6flI2aqfprAfUHho3M8rPPey...  \n",
       "15  tehmv7dX7eC5ZTZZjrzVIsTMBCb7J07UVBSQjSYK-5PoUJ...  \n",
       "16  nWD_BJ1Bn98OkxtHrcws1Jz5ctFJ2xsSrA0OvDc6PWIVGq...  \n",
       "17  Uyh5vclDlEDyrIXMjKD3clT7wbG92qq3mZlVCifaKENDVb...  \n",
       "18  HouaHvQyx4Kefg17QS2qi97LEcerzFiVlu1svzmkntlvgk...  \n",
       "19  Fq1A64S1uKxS7XYm0aTwP5bcI88EKIt9Ld7iStvmtyB43Y...  \n",
       "20  Kf7RUV7nOSiqQ_jHKIrhcUWLUxt-XNseED9aEl5LDV1APT...  \n",
       "21  6ACA-XanXWYRdej-omBrnlM-ziv_txp6U-5oKmtLr0yqhu...  \n",
       "22  NpPspwOHeTBXQLvGH3q-1w9cOqy5D12CK50YMppRW_2GlG...  \n",
       "23  lAoGAWR0v4y0QbDTOMFKjFv_LlKfh_ymsZYyHsLkrr8xGM...  \n",
       "24  CFbEyz3fMIYwR8t9htV_iKMT0OZKNK6gw0KWLeTajCG1aw...  "
      ]
     },
     "execution_count": 87,
     "metadata": {},
     "output_type": "execute_result"
    }
   ],
   "source": [
    "df.insert(2, 'previous_summoner_name', previous_name)\n",
    "df"
   ]
  },
  {
   "cell_type": "code",
   "execution_count": 88,
   "metadata": {},
   "outputs": [],
   "source": [
    "df.to_excel('puuid_data3.xlsx', index=False)"
   ]
  },
  {
   "cell_type": "code",
   "execution_count": 12,
   "metadata": {},
   "outputs": [],
   "source": [
    "df_puuid.to_excel('temp_df_puuid.xlsx', index=False)"
   ]
  },
  {
   "cell_type": "code",
   "execution_count": 91,
   "metadata": {},
   "outputs": [
    {
     "data": {
      "text/html": [
       "<div>\n",
       "<style scoped>\n",
       "    .dataframe tbody tr th:only-of-type {\n",
       "        vertical-align: middle;\n",
       "    }\n",
       "\n",
       "    .dataframe tbody tr th {\n",
       "        vertical-align: top;\n",
       "    }\n",
       "\n",
       "    .dataframe thead th {\n",
       "        text-align: right;\n",
       "    }\n",
       "</style>\n",
       "<table border=\"1\" class=\"dataframe\">\n",
       "  <thead>\n",
       "    <tr style=\"text-align: right;\">\n",
       "      <th></th>\n",
       "      <th>tier</th>\n",
       "      <th>summoner</th>\n",
       "      <th>previous_summoner_name</th>\n",
       "      <th>puuid</th>\n",
       "      <th>match1</th>\n",
       "      <th>match2</th>\n",
       "      <th>match3</th>\n",
       "      <th>match4</th>\n",
       "      <th>match5</th>\n",
       "      <th>match6</th>\n",
       "      <th>match7</th>\n",
       "      <th>match8</th>\n",
       "      <th>match9</th>\n",
       "      <th>match10</th>\n",
       "    </tr>\n",
       "  </thead>\n",
       "  <tbody>\n",
       "    <tr>\n",
       "      <th>0</th>\n",
       "      <td>grand_master</td>\n",
       "      <td>줄라이77</td>\n",
       "      <td>이게마리되니</td>\n",
       "      <td>ZPFTEsnEwgz0EfXyXbdlj3HIzoKdjLJmkM4p8v4H9EYlEW...</td>\n",
       "      <td>KR_6611771034</td>\n",
       "      <td>KR_6611825559</td>\n",
       "      <td>KR_6611894390</td>\n",
       "      <td>KR_6613941315</td>\n",
       "      <td>KR_6613987729</td>\n",
       "      <td>KR_6614204138</td>\n",
       "      <td>KR_6619754667</td>\n",
       "      <td>KR_6621536984</td>\n",
       "      <td>KR_6621619421</td>\n",
       "      <td>KR_6622454112</td>\n",
       "    </tr>\n",
       "    <tr>\n",
       "      <th>1</th>\n",
       "      <td>grand_master</td>\n",
       "      <td>바텀개</td>\n",
       "      <td>바텀개</td>\n",
       "      <td>EXr7XpD4deA3djszdNHUGUOVNcRxMwC26KdDhgGE3fJk9H...</td>\n",
       "      <td>KR_6662878759</td>\n",
       "      <td>KR_6663816089</td>\n",
       "      <td>KR_6663918544</td>\n",
       "      <td>KR_6663968631</td>\n",
       "      <td>KR_6664044375</td>\n",
       "      <td>KR_6666840236</td>\n",
       "      <td>KR_6667098846</td>\n",
       "      <td>KR_6667275166</td>\n",
       "      <td>KR_6667372041</td>\n",
       "      <td>KR_6668819105</td>\n",
       "    </tr>\n",
       "  </tbody>\n",
       "</table>\n",
       "</div>"
      ],
      "text/plain": [
       "           tier summoner previous_summoner_name  \\\n",
       "0  grand_master    줄라이77                 이게마리되니   \n",
       "1  grand_master      바텀개                    바텀개   \n",
       "\n",
       "                                               puuid         match1  \\\n",
       "0  ZPFTEsnEwgz0EfXyXbdlj3HIzoKdjLJmkM4p8v4H9EYlEW...  KR_6611771034   \n",
       "1  EXr7XpD4deA3djszdNHUGUOVNcRxMwC26KdDhgGE3fJk9H...  KR_6662878759   \n",
       "\n",
       "          match2         match3         match4         match5         match6  \\\n",
       "0  KR_6611825559  KR_6611894390  KR_6613941315  KR_6613987729  KR_6614204138   \n",
       "1  KR_6663816089  KR_6663918544  KR_6663968631  KR_6664044375  KR_6666840236   \n",
       "\n",
       "          match7         match8         match9        match10  \n",
       "0  KR_6619754667  KR_6621536984  KR_6621619421  KR_6622454112  \n",
       "1  KR_6667098846  KR_6667275166  KR_6667372041  KR_6668819105  "
      ]
     },
     "execution_count": 91,
     "metadata": {},
     "output_type": "execute_result"
    }
   ],
   "source": [
    "df2 = pd.concat([df, df_puuid2], axis=1)\n",
    "df2.head(2)"
   ]
  },
  {
   "cell_type": "code",
   "execution_count": 92,
   "metadata": {},
   "outputs": [],
   "source": [
    "df2.to_excel('matchid_data2.xlsx', index=False)"
   ]
  },
  {
   "cell_type": "code",
   "execution_count": 3,
   "metadata": {},
   "outputs": [],
   "source": [
    "df2 = pd.read_excel('matchid_data2.xlsx')"
   ]
  },
  {
   "cell_type": "code",
   "execution_count": 18,
   "metadata": {},
   "outputs": [
    {
     "data": {
      "text/html": [
       "<div>\n",
       "<style scoped>\n",
       "    .dataframe tbody tr th:only-of-type {\n",
       "        vertical-align: middle;\n",
       "    }\n",
       "\n",
       "    .dataframe tbody tr th {\n",
       "        vertical-align: top;\n",
       "    }\n",
       "\n",
       "    .dataframe thead th {\n",
       "        text-align: right;\n",
       "    }\n",
       "</style>\n",
       "<table border=\"1\" class=\"dataframe\">\n",
       "  <thead>\n",
       "    <tr style=\"text-align: right;\">\n",
       "      <th></th>\n",
       "      <th>tier</th>\n",
       "      <th>summoner</th>\n",
       "      <th>previous_summoner_name</th>\n",
       "      <th>puuid</th>\n",
       "      <th>match1</th>\n",
       "      <th>match2</th>\n",
       "      <th>match3</th>\n",
       "      <th>match4</th>\n",
       "      <th>match5</th>\n",
       "      <th>match6</th>\n",
       "      <th>match7</th>\n",
       "      <th>match8</th>\n",
       "      <th>match9</th>\n",
       "      <th>match10</th>\n",
       "    </tr>\n",
       "  </thead>\n",
       "  <tbody>\n",
       "    <tr>\n",
       "      <th>0</th>\n",
       "      <td>grand_master</td>\n",
       "      <td>줄라이77</td>\n",
       "      <td>이게마리되니</td>\n",
       "      <td>ZPFTEsnEwgz0EfXyXbdlj3HIzoKdjLJmkM4p8v4H9EYlEW...</td>\n",
       "      <td>KR_6611771034</td>\n",
       "      <td>KR_6611825559</td>\n",
       "      <td>KR_6611894390</td>\n",
       "      <td>KR_6613941315</td>\n",
       "      <td>KR_6613987729</td>\n",
       "      <td>KR_6614204138</td>\n",
       "      <td>KR_6619754667</td>\n",
       "      <td>KR_6621536984</td>\n",
       "      <td>KR_6621619421</td>\n",
       "      <td>KR_6622454112</td>\n",
       "    </tr>\n",
       "    <tr>\n",
       "      <th>1</th>\n",
       "      <td>grand_master</td>\n",
       "      <td>바텀개</td>\n",
       "      <td>바텀개</td>\n",
       "      <td>EXr7XpD4deA3djszdNHUGUOVNcRxMwC26KdDhgGE3fJk9H...</td>\n",
       "      <td>KR_6662878759</td>\n",
       "      <td>KR_6663816089</td>\n",
       "      <td>KR_6663918544</td>\n",
       "      <td>KR_6663968631</td>\n",
       "      <td>KR_6664044375</td>\n",
       "      <td>KR_6666840236</td>\n",
       "      <td>KR_6667098846</td>\n",
       "      <td>KR_6667275166</td>\n",
       "      <td>KR_6667372041</td>\n",
       "      <td>KR_6668819105</td>\n",
       "    </tr>\n",
       "  </tbody>\n",
       "</table>\n",
       "</div>"
      ],
      "text/plain": [
       "           tier summoner previous_summoner_name  \\\n",
       "0  grand_master    줄라이77                 이게마리되니   \n",
       "1  grand_master      바텀개                    바텀개   \n",
       "\n",
       "                                               puuid         match1  \\\n",
       "0  ZPFTEsnEwgz0EfXyXbdlj3HIzoKdjLJmkM4p8v4H9EYlEW...  KR_6611771034   \n",
       "1  EXr7XpD4deA3djszdNHUGUOVNcRxMwC26KdDhgGE3fJk9H...  KR_6662878759   \n",
       "\n",
       "          match2         match3         match4         match5         match6  \\\n",
       "0  KR_6611825559  KR_6611894390  KR_6613941315  KR_6613987729  KR_6614204138   \n",
       "1  KR_6663816089  KR_6663918544  KR_6663968631  KR_6664044375  KR_6666840236   \n",
       "\n",
       "          match7         match8         match9        match10  \n",
       "0  KR_6619754667  KR_6621536984  KR_6621619421  KR_6622454112  \n",
       "1  KR_6667098846  KR_6667275166  KR_6667372041  KR_6668819105  "
      ]
     },
     "metadata": {},
     "output_type": "display_data"
    },
    {
     "data": {
      "text/html": [
       "<div>\n",
       "<style scoped>\n",
       "    .dataframe tbody tr th:only-of-type {\n",
       "        vertical-align: middle;\n",
       "    }\n",
       "\n",
       "    .dataframe tbody tr th {\n",
       "        vertical-align: top;\n",
       "    }\n",
       "\n",
       "    .dataframe thead th {\n",
       "        text-align: right;\n",
       "    }\n",
       "</style>\n",
       "<table border=\"1\" class=\"dataframe\">\n",
       "  <thead>\n",
       "    <tr style=\"text-align: right;\">\n",
       "      <th></th>\n",
       "      <th>tier</th>\n",
       "      <th>summoner</th>\n",
       "      <th>previous_summoner_name</th>\n",
       "      <th>puuid</th>\n",
       "      <th>match1</th>\n",
       "      <th>match2</th>\n",
       "      <th>match3</th>\n",
       "      <th>match4</th>\n",
       "      <th>match5</th>\n",
       "      <th>match6</th>\n",
       "      <th>match7</th>\n",
       "      <th>match8</th>\n",
       "      <th>match9</th>\n",
       "      <th>match10</th>\n",
       "    </tr>\n",
       "  </thead>\n",
       "  <tbody>\n",
       "    <tr>\n",
       "      <th>23</th>\n",
       "      <td>gold</td>\n",
       "      <td>Orangerie</td>\n",
       "      <td>Orangerie</td>\n",
       "      <td>lAoGAWR0v4y0QbDTOMFKjFv_LlKfh_ymsZYyHsLkrr8xGM...</td>\n",
       "      <td>KR_6645334623</td>\n",
       "      <td>KR_6645438319</td>\n",
       "      <td>KR_6645642623</td>\n",
       "      <td>KR_6645737787</td>\n",
       "      <td>KR_6645815920</td>\n",
       "      <td>KR_6646017774</td>\n",
       "      <td>KR_6646123704</td>\n",
       "      <td>KR_6646228214</td>\n",
       "      <td>KR_6646723879</td>\n",
       "      <td>KR_6648866954</td>\n",
       "    </tr>\n",
       "    <tr>\n",
       "      <th>24</th>\n",
       "      <td>gold</td>\n",
       "      <td>쥐파티</td>\n",
       "      <td>쥐파티</td>\n",
       "      <td>CFbEyz3fMIYwR8t9htV_iKMT0OZKNK6gw0KWLeTajCG1aw...</td>\n",
       "      <td>KR_6520585109</td>\n",
       "      <td>KR_6520660560</td>\n",
       "      <td>KR_6520672537</td>\n",
       "      <td>KR_6520682964</td>\n",
       "      <td>KR_6520714018</td>\n",
       "      <td>KR_6520829018</td>\n",
       "      <td>KR_6520855792</td>\n",
       "      <td>KR_6521685419</td>\n",
       "      <td>KR_6521708922</td>\n",
       "      <td>KR_6525295806</td>\n",
       "    </tr>\n",
       "  </tbody>\n",
       "</table>\n",
       "</div>"
      ],
      "text/plain": [
       "    tier   summoner previous_summoner_name  \\\n",
       "23  gold  Orangerie              Orangerie   \n",
       "24  gold        쥐파티                    쥐파티   \n",
       "\n",
       "                                                puuid         match1  \\\n",
       "23  lAoGAWR0v4y0QbDTOMFKjFv_LlKfh_ymsZYyHsLkrr8xGM...  KR_6645334623   \n",
       "24  CFbEyz3fMIYwR8t9htV_iKMT0OZKNK6gw0KWLeTajCG1aw...  KR_6520585109   \n",
       "\n",
       "           match2         match3         match4         match5         match6  \\\n",
       "23  KR_6645438319  KR_6645642623  KR_6645737787  KR_6645815920  KR_6646017774   \n",
       "24  KR_6520660560  KR_6520672537  KR_6520682964  KR_6520714018  KR_6520829018   \n",
       "\n",
       "           match7         match8         match9        match10  \n",
       "23  KR_6646123704  KR_6646228214  KR_6646723879  KR_6648866954  \n",
       "24  KR_6520855792  KR_6521685419  KR_6521708922  KR_6525295806  "
      ]
     },
     "metadata": {},
     "output_type": "display_data"
    }
   ],
   "source": [
    "display(df2.head(2))\n",
    "display(df2.tail(2))"
   ]
  },
  {
   "cell_type": "markdown",
   "metadata": {},
   "source": [
    "#### 경기 데이터 전처리"
   ]
  },
  {
   "cell_type": "code",
   "execution_count": 6,
   "metadata": {},
   "outputs": [],
   "source": [
    "def make_base_dict(puuid, matchid):\n",
    "    base_dict = {'puuid': puuid, 'matchid': matchid}\n",
    "    \n",
    "    return base_dict"
   ]
  },
  {
   "cell_type": "code",
   "execution_count": 7,
   "metadata": {},
   "outputs": [],
   "source": [
    "def response_match(matchid):\n",
    "    url = 'https://asia.api.riotgames.com/lol/match/v5/matches/' + matchid\n",
    "    resp_ma = requests.get(url, headers=request_header)\n",
    "\n",
    "    return resp_ma"
   ]
  },
  {
   "cell_type": "code",
   "execution_count": 8,
   "metadata": {},
   "outputs": [],
   "source": [
    "# participant ID 찾기\n",
    "### match 에서는 pid-1\n",
    "### timeline 에서는 'pid'\n",
    "def find_participantId(resp_ma, puuid):\n",
    "    return resp_ma.json()['metadata']['participants'].index(puuid) + 1"
   ]
  },
  {
   "cell_type": "code",
   "execution_count": 9,
   "metadata": {},
   "outputs": [],
   "source": [
    "def make_data_end_dict(resp_ma, parti_id):\n",
    "    data_end = resp_ma.json()['info']['participants'][parti_id - 1]\n",
    "\n",
    "    data_end_dict = {'win': data_end['win'],\n",
    "                     'kills': data_end['kills'],\n",
    "                     'deaths': data_end['deaths'],\n",
    "                     'assists': data_end['assists'],\n",
    "                     'bountyGold': data_end['challenges']['bountyGold'],\n",
    "                     'turretKills': data_end['turretKills'],\n",
    "                     'turretsLost': data_end['turretsLost']\n",
    "                    }\n",
    "    \n",
    "    return data_end_dict"
   ]
  },
  {
   "cell_type": "code",
   "execution_count": 10,
   "metadata": {},
   "outputs": [],
   "source": [
    "def response_timelines(matchid):\n",
    "    url = 'https://asia.api.riotgames.com/lol/match/v5/matches/' + matchid + '/timeline'\n",
    "    resp_tl = requests.get(url, headers=request_header)\n",
    "    \n",
    "    return resp_tl"
   ]
  },
  {
   "cell_type": "code",
   "execution_count": 11,
   "metadata": {},
   "outputs": [],
   "source": [
    "def make_data_15_dict(resp_tl, parti_id):\n",
    "    data_15 = resp_tl.json()['info']['frames'][15]['participantFrames'][str(parti_id)]\n",
    "\n",
    "    data_15_dict = {'totalDamageDone15': data_15['damageStats']['totalDamageDone'],\n",
    "                    'totalDamageDoneToChampions15': data_15['damageStats']['totalDamageDoneToChampions'],\n",
    "                    'totalDamageTaken15': data_15['damageStats']['totalDamageTaken'],\n",
    "                    'level15': data_15['level'],\n",
    "                    'xp15': data_15['xp'],\n",
    "                    'minionsKilled15': data_15['minionsKilled'],\n",
    "                    'totalGold15': data_15['totalGold']\n",
    "                    }\n",
    "    \n",
    "    return data_15_dict"
   ]
  },
  {
   "cell_type": "code",
   "execution_count": 12,
   "metadata": {},
   "outputs": [],
   "source": [
    "def make_data_15_kda_dict(resp_tl, parti_id):\n",
    "    data_15_kda_dict = {'kills15': 0, 'deaths15': 0, 'assists15': 0}\n",
    "\n",
    "    for times in range(0, 16):\n",
    "        events = resp_tl.json()['info']['frames'][times]['events']\n",
    "\n",
    "        for i in range(len(events)):\n",
    "            if list(events[i])[0] == 'assistingParticipantIds' and events[i]['type'] == 'CHAMPION_KILL':\n",
    "                \n",
    "                if parti_id == events[i]['killerId']:\n",
    "                    data_15_kda_dict['kills15'] += 1\n",
    "\n",
    "                if parti_id == events[i]['victimId']:\n",
    "                    data_15_kda_dict['deaths15'] += 1\n",
    "\n",
    "                if parti_id in events[i]['assistingParticipantIds']:\n",
    "                    data_15_kda_dict['assists15'] += 1\n",
    "\n",
    "    return data_15_kda_dict"
   ]
  },
  {
   "cell_type": "code",
   "execution_count": 13,
   "metadata": {},
   "outputs": [],
   "source": [
    "match_cols = ['puuid', 'matchid', \\\n",
    "              'win', 'kills', 'deaths', 'assists', 'bountyGold', 'turretKills', 'turretsLost', \\\n",
    "              'totalDamageDone15', 'totalDamageDoneToChampions15', 'totalDamageTaken15', 'level15', 'xp15', 'minionsKilled15', 'totalGold15', \\\n",
    "              'kills15', 'deaths15', 'assists15']"
   ]
  },
  {
   "cell_type": "code",
   "execution_count": 14,
   "metadata": {},
   "outputs": [
    {
     "data": {
      "text/html": [
       "<div>\n",
       "<style scoped>\n",
       "    .dataframe tbody tr th:only-of-type {\n",
       "        vertical-align: middle;\n",
       "    }\n",
       "\n",
       "    .dataframe tbody tr th {\n",
       "        vertical-align: top;\n",
       "    }\n",
       "\n",
       "    .dataframe thead th {\n",
       "        text-align: right;\n",
       "    }\n",
       "</style>\n",
       "<table border=\"1\" class=\"dataframe\">\n",
       "  <thead>\n",
       "    <tr style=\"text-align: right;\">\n",
       "      <th></th>\n",
       "      <th>puuid</th>\n",
       "      <th>matchid</th>\n",
       "      <th>win</th>\n",
       "      <th>kills</th>\n",
       "      <th>deaths</th>\n",
       "      <th>assists</th>\n",
       "      <th>bountyGold</th>\n",
       "      <th>turretKills</th>\n",
       "      <th>turretsLost</th>\n",
       "      <th>totalDamageDone15</th>\n",
       "      <th>totalDamageDoneToChampions15</th>\n",
       "      <th>totalDamageTaken15</th>\n",
       "      <th>level15</th>\n",
       "      <th>xp15</th>\n",
       "      <th>minionsKilled15</th>\n",
       "      <th>totalGold15</th>\n",
       "      <th>kills15</th>\n",
       "      <th>deaths15</th>\n",
       "      <th>assists15</th>\n",
       "    </tr>\n",
       "  </thead>\n",
       "  <tbody>\n",
       "  </tbody>\n",
       "</table>\n",
       "</div>"
      ],
      "text/plain": [
       "Empty DataFrame\n",
       "Columns: [puuid, matchid, win, kills, deaths, assists, bountyGold, turretKills, turretsLost, totalDamageDone15, totalDamageDoneToChampions15, totalDamageTaken15, level15, xp15, minionsKilled15, totalGold15, kills15, deaths15, assists15]\n",
       "Index: []"
      ]
     },
     "execution_count": 14,
     "metadata": {},
     "output_type": "execute_result"
    }
   ],
   "source": [
    "df_match = pd.DataFrame(columns=match_cols)\n",
    "df_match"
   ]
  },
  {
   "cell_type": "code",
   "execution_count": 26,
   "metadata": {},
   "outputs": [
    {
     "name": "stdout",
     "output_type": "stream",
     "text": [
      "sleep(ma) 62\n",
      "sleep(ma) 61\n",
      "sleep(ma) 61\n",
      "sleep(ma) 60\n"
     ]
    }
   ],
   "source": [
    "errorFlag = False\n",
    "\n",
    "for i in range(len(df2)):\n",
    "    puuid = list(df2.loc[[i]]['puuid'])[0]\n",
    "    match_ids = list(df2.loc[i])[4:]\n",
    "    \n",
    "    for matchid in match_ids:\n",
    "        base_dict = make_base_dict(puuid, matchid)\n",
    "        \n",
    "        resp_ma = response_match(matchid)\n",
    "        while resp_ma.status_code == 429: # Rate limit exceed\n",
    "            print(\"sleep(ma)\", resp_ma.headers['Retry-After'])\n",
    "            time.sleep(int(resp_ma.headers['Retry-After']) + 3)\n",
    "            resp_ma = response_match(matchid)\n",
    "\n",
    "        if resp_ma.status_code != 200:\n",
    "            print(\"resp_ma error \", resp_ma.status_code)\n",
    "            errorFlag = True\n",
    "            break\n",
    "\n",
    "        parti_id = find_participantId(resp_ma, puuid)\n",
    "        data_end_dict = make_data_end_dict(resp_ma, parti_id)\n",
    "\n",
    "        resp_tl = response_timelines(matchid)\n",
    "        while resp_tl.status_code == 429: # Rate limit exceed\n",
    "            print(\"sleep(tl)\", resp_tl.headers['Retry-After'])\n",
    "            time.sleep(int(resp_tl.headers['Retry-After']) + 3)\n",
    "            resp_tl = response_match(matchid)\n",
    "\n",
    "        if resp_tl.status_code != 200:\n",
    "            print(\"resp_tl error \", resp_tl.status_code)\n",
    "            errorFlag = True\n",
    "            break\n",
    "\n",
    "        data_15_dict = make_data_15_dict(resp_tl, parti_id)\n",
    "        data_15_kda_dict = make_data_15_kda_dict(resp_tl, parti_id)\n",
    "\n",
    "        base_dict.update(data_end_dict)\n",
    "        base_dict.update(data_15_dict)\n",
    "        base_dict.update(data_15_kda_dict)\n",
    "        df_match = df_match.append(base_dict, ignore_index=True)\n",
    "\n",
    "    time.sleep(3)\n",
    "\n",
    "    if errorFlag == True:\n",
    "        print(\"error occurred\")\n",
    "        break"
   ]
  },
  {
   "cell_type": "code",
   "execution_count": 27,
   "metadata": {},
   "outputs": [
    {
     "data": {
      "text/html": [
       "<div>\n",
       "<style scoped>\n",
       "    .dataframe tbody tr th:only-of-type {\n",
       "        vertical-align: middle;\n",
       "    }\n",
       "\n",
       "    .dataframe tbody tr th {\n",
       "        vertical-align: top;\n",
       "    }\n",
       "\n",
       "    .dataframe thead th {\n",
       "        text-align: right;\n",
       "    }\n",
       "</style>\n",
       "<table border=\"1\" class=\"dataframe\">\n",
       "  <thead>\n",
       "    <tr style=\"text-align: right;\">\n",
       "      <th></th>\n",
       "      <th>puuid</th>\n",
       "      <th>matchid</th>\n",
       "      <th>win</th>\n",
       "      <th>kills</th>\n",
       "      <th>deaths</th>\n",
       "      <th>assists</th>\n",
       "      <th>bountyGold</th>\n",
       "      <th>turretKills</th>\n",
       "      <th>turretsLost</th>\n",
       "      <th>totalDamageDone15</th>\n",
       "      <th>totalDamageDoneToChampions15</th>\n",
       "      <th>totalDamageTaken15</th>\n",
       "      <th>level15</th>\n",
       "      <th>xp15</th>\n",
       "      <th>minionsKilled15</th>\n",
       "      <th>totalGold15</th>\n",
       "      <th>kills15</th>\n",
       "      <th>deaths15</th>\n",
       "      <th>assists15</th>\n",
       "    </tr>\n",
       "  </thead>\n",
       "  <tbody>\n",
       "    <tr>\n",
       "      <th>0</th>\n",
       "      <td>ZPFTEsnEwgz0EfXyXbdlj3HIzoKdjLJmkM4p8v4H9EYlEW...</td>\n",
       "      <td>KR_6611771034</td>\n",
       "      <td>True</td>\n",
       "      <td>19</td>\n",
       "      <td>2</td>\n",
       "      <td>5</td>\n",
       "      <td>0</td>\n",
       "      <td>5</td>\n",
       "      <td>3</td>\n",
       "      <td>70886</td>\n",
       "      <td>9620</td>\n",
       "      <td>5167</td>\n",
       "      <td>10</td>\n",
       "      <td>6813</td>\n",
       "      <td>150</td>\n",
       "      <td>8133</td>\n",
       "      <td>4</td>\n",
       "      <td>0</td>\n",
       "      <td>2</td>\n",
       "    </tr>\n",
       "    <tr>\n",
       "      <th>1</th>\n",
       "      <td>ZPFTEsnEwgz0EfXyXbdlj3HIzoKdjLJmkM4p8v4H9EYlEW...</td>\n",
       "      <td>KR_6611825559</td>\n",
       "      <td>False</td>\n",
       "      <td>7</td>\n",
       "      <td>4</td>\n",
       "      <td>8</td>\n",
       "      <td>450</td>\n",
       "      <td>2</td>\n",
       "      <td>10</td>\n",
       "      <td>50995</td>\n",
       "      <td>9032</td>\n",
       "      <td>4973</td>\n",
       "      <td>9</td>\n",
       "      <td>5170</td>\n",
       "      <td>126</td>\n",
       "      <td>6097</td>\n",
       "      <td>2</td>\n",
       "      <td>2</td>\n",
       "      <td>3</td>\n",
       "    </tr>\n",
       "  </tbody>\n",
       "</table>\n",
       "</div>"
      ],
      "text/plain": [
       "                                               puuid        matchid    win  \\\n",
       "0  ZPFTEsnEwgz0EfXyXbdlj3HIzoKdjLJmkM4p8v4H9EYlEW...  KR_6611771034   True   \n",
       "1  ZPFTEsnEwgz0EfXyXbdlj3HIzoKdjLJmkM4p8v4H9EYlEW...  KR_6611825559  False   \n",
       "\n",
       "  kills deaths assists bountyGold turretKills turretsLost totalDamageDone15  \\\n",
       "0    19      2       5          0           5           3             70886   \n",
       "1     7      4       8        450           2          10             50995   \n",
       "\n",
       "  totalDamageDoneToChampions15 totalDamageTaken15 level15  xp15  \\\n",
       "0                         9620               5167      10  6813   \n",
       "1                         9032               4973       9  5170   \n",
       "\n",
       "  minionsKilled15 totalGold15 kills15 deaths15 assists15  \n",
       "0             150        8133       4        0         2  \n",
       "1             126        6097       2        2         3  "
      ]
     },
     "metadata": {},
     "output_type": "display_data"
    },
    {
     "data": {
      "text/html": [
       "<div>\n",
       "<style scoped>\n",
       "    .dataframe tbody tr th:only-of-type {\n",
       "        vertical-align: middle;\n",
       "    }\n",
       "\n",
       "    .dataframe tbody tr th {\n",
       "        vertical-align: top;\n",
       "    }\n",
       "\n",
       "    .dataframe thead th {\n",
       "        text-align: right;\n",
       "    }\n",
       "</style>\n",
       "<table border=\"1\" class=\"dataframe\">\n",
       "  <thead>\n",
       "    <tr style=\"text-align: right;\">\n",
       "      <th></th>\n",
       "      <th>puuid</th>\n",
       "      <th>matchid</th>\n",
       "      <th>win</th>\n",
       "      <th>kills</th>\n",
       "      <th>deaths</th>\n",
       "      <th>assists</th>\n",
       "      <th>bountyGold</th>\n",
       "      <th>turretKills</th>\n",
       "      <th>turretsLost</th>\n",
       "      <th>totalDamageDone15</th>\n",
       "      <th>totalDamageDoneToChampions15</th>\n",
       "      <th>totalDamageTaken15</th>\n",
       "      <th>level15</th>\n",
       "      <th>xp15</th>\n",
       "      <th>minionsKilled15</th>\n",
       "      <th>totalGold15</th>\n",
       "      <th>kills15</th>\n",
       "      <th>deaths15</th>\n",
       "      <th>assists15</th>\n",
       "    </tr>\n",
       "  </thead>\n",
       "  <tbody>\n",
       "    <tr>\n",
       "      <th>248</th>\n",
       "      <td>CFbEyz3fMIYwR8t9htV_iKMT0OZKNK6gw0KWLeTajCG1aw...</td>\n",
       "      <td>KR_6521708922</td>\n",
       "      <td>True</td>\n",
       "      <td>12</td>\n",
       "      <td>8</td>\n",
       "      <td>18</td>\n",
       "      <td>150</td>\n",
       "      <td>2</td>\n",
       "      <td>2</td>\n",
       "      <td>59583</td>\n",
       "      <td>8303</td>\n",
       "      <td>7429</td>\n",
       "      <td>9</td>\n",
       "      <td>5411</td>\n",
       "      <td>112</td>\n",
       "      <td>7223</td>\n",
       "      <td>4</td>\n",
       "      <td>3</td>\n",
       "      <td>6</td>\n",
       "    </tr>\n",
       "    <tr>\n",
       "      <th>249</th>\n",
       "      <td>CFbEyz3fMIYwR8t9htV_iKMT0OZKNK6gw0KWLeTajCG1aw...</td>\n",
       "      <td>KR_6525295806</td>\n",
       "      <td>True</td>\n",
       "      <td>14</td>\n",
       "      <td>9</td>\n",
       "      <td>7</td>\n",
       "      <td>1050</td>\n",
       "      <td>5</td>\n",
       "      <td>5</td>\n",
       "      <td>44972</td>\n",
       "      <td>6316</td>\n",
       "      <td>6773</td>\n",
       "      <td>8</td>\n",
       "      <td>4989</td>\n",
       "      <td>110</td>\n",
       "      <td>5457</td>\n",
       "      <td>1</td>\n",
       "      <td>2</td>\n",
       "      <td>1</td>\n",
       "    </tr>\n",
       "  </tbody>\n",
       "</table>\n",
       "</div>"
      ],
      "text/plain": [
       "                                                 puuid        matchid   win  \\\n",
       "248  CFbEyz3fMIYwR8t9htV_iKMT0OZKNK6gw0KWLeTajCG1aw...  KR_6521708922  True   \n",
       "249  CFbEyz3fMIYwR8t9htV_iKMT0OZKNK6gw0KWLeTajCG1aw...  KR_6525295806  True   \n",
       "\n",
       "    kills deaths assists bountyGold turretKills turretsLost totalDamageDone15  \\\n",
       "248    12      8      18        150           2           2             59583   \n",
       "249    14      9       7       1050           5           5             44972   \n",
       "\n",
       "    totalDamageDoneToChampions15 totalDamageTaken15 level15  xp15  \\\n",
       "248                         8303               7429       9  5411   \n",
       "249                         6316               6773       8  4989   \n",
       "\n",
       "    minionsKilled15 totalGold15 kills15 deaths15 assists15  \n",
       "248             112        7223       4        3         6  \n",
       "249             110        5457       1        2         1  "
      ]
     },
     "metadata": {},
     "output_type": "display_data"
    }
   ],
   "source": [
    "display(df_match.head(2))\n",
    "display(df_match.tail(2))"
   ]
  },
  {
   "cell_type": "code",
   "execution_count": 28,
   "metadata": {},
   "outputs": [],
   "source": [
    "df_match.to_excel('match_log_data.xlsx', index=False)"
   ]
  },
  {
   "cell_type": "code",
   "execution_count": null,
   "metadata": {},
   "outputs": [],
   "source": [
    "df_match = pd.read_excel('match_log_data.xlsx')"
   ]
  },
  {
   "cell_type": "markdown",
   "metadata": {},
   "source": [
    "#### 연습구간"
   ]
  },
  {
   "cell_type": "code",
   "execution_count": null,
   "metadata": {},
   "outputs": [],
   "source": [
    "# parti_ID 찾기\n",
    "def find_participantId(response, puuid):\n",
    "    return response.json()['metadata']['participants'].index(puuid) + 1"
   ]
  },
  {
   "cell_type": "code",
   "execution_count": null,
   "metadata": {},
   "outputs": [],
   "source": [
    "find_participantId(resp_tl, df2['puuid'][0])"
   ]
  },
  {
   "cell_type": "code",
   "execution_count": null,
   "metadata": {},
   "outputs": [],
   "source": [
    "resp_tl.json()['info']['frames'][15]['participantFrames']['9']"
   ]
  },
  {
   "cell_type": "code",
   "execution_count": null,
   "metadata": {},
   "outputs": [],
   "source": [
    "print(resp_tl.json()['info']['frames'][15]['participantFrames']['9']['damageStats']['totalDamageDone']) # 15분까지 가한 피해량\n",
    "print(resp_tl.json()['info']['frames'][15]['participantFrames']['9']['damageStats']['totalDamageDoneToChampions']) # 15분까지 챔피언에게 가한 피해량\n",
    "print(resp_tl.json()['info']['frames'][15]['participantFrames']['9']['damageStats']['totalDamageTaken']) # 15분까지 받은 피해량\n",
    "print(resp_tl.json()['info']['frames'][15]['participantFrames']['9']['level']) # 15분 레벨\n",
    "print(resp_tl.json()['info']['frames'][15]['participantFrames']['9']['minionsKilled']) # 15분 미니언 처치 수\n",
    "print(resp_tl.json()['info']['frames'][15]['participantFrames']['9']['totalGold']) # 15분 골드 누적 획득량\n",
    "print(resp_tl.json()['info']['frames'][15]['participantFrames']['9']['xp']) # 15분 경험치 누적 획득량\n",
    "\n",
    "# 게임 종료\n",
    "print(response.json()['info']['participants'][8]['challenges']['bountyGold']) # 현상금\n",
    "print(response.json()['info']['participants'][8]['kills']) # 킬\n",
    "print(response.json()['info']['participants'][8]['deaths']) # 데스\n",
    "print(response.json()['info']['participants'][8]['assists']) # 어시스트\n",
    "print(response.json()['info']['participants'][8]['turretKills']) # 자신이 파괴한 포탑 수\n",
    "print(response.json()['info']['participants'][8]['turretsLost']) # 전체 파괴된 포탑 수\n",
    "print(response.json()['info']['participants'][8]['win']) # 승패 여부"
   ]
  },
  {
   "cell_type": "code",
   "execution_count": null,
   "metadata": {},
   "outputs": [],
   "source": [
    "resp_tl.json()['info']['frames'][8]['events'][22].keys()"
   ]
  },
  {
   "cell_type": "code",
   "execution_count": null,
   "metadata": {},
   "outputs": [],
   "source": [
    "x = resp_tl.json()['info']['frames'][8]['events']\n",
    "for i in range(len(x)):\n",
    "    if list(x[i])[0] == 'assistingParticipantIds':\n",
    "        print(i, x[i]['assistingParticipantIds'], x[i]['killerId'], x[i]['victimId'])\n",
    "\n",
    "        if 9 in x[i]['assistingParticipantIds']:\n",
    "            print('\\tassist')\n",
    "        if 9 == x[i]['killerId']:\n",
    "            print('\\tkill')\n",
    "        if 9 == x[i]['victimId']:\n",
    "            print('\\tdeath')"
   ]
  },
  {
   "cell_type": "markdown",
   "metadata": {},
   "source": [
    "##### 테스트"
   ]
  },
  {
   "cell_type": "code",
   "execution_count": null,
   "metadata": {},
   "outputs": [],
   "source": [
    "pud = df2['puuid'][0]\n",
    "mid = df2['match1'][0]\n",
    "basedict = {'puuid': pud, 'matchid': mid}"
   ]
  },
  {
   "cell_type": "code",
   "execution_count": null,
   "metadata": {},
   "outputs": [],
   "source": [
    "url1 = 'https://asia.api.riotgames.com/lol/match/v5/matches/' + mid\n",
    "resp_end = requests.get(url1, headers=request_header)\n",
    "part_id = find_participantId(resp_end, pud)"
   ]
  },
  {
   "cell_type": "code",
   "execution_count": null,
   "metadata": {},
   "outputs": [],
   "source": [
    "part_id"
   ]
  },
  {
   "cell_type": "code",
   "execution_count": null,
   "metadata": {},
   "outputs": [],
   "source": [
    "data_end = resp_end.json()['info']['participants'][part_id-1]\n",
    "data_end_dict = {'win': data_end['win'],\n",
    "                 'kills': data_end['kills'],\n",
    "                 'deaths': data_end['deaths'],\n",
    "                 'assists': data_end['assists'],\n",
    "                 'bountyGold': data_end['challenges']['bountyGold'],\n",
    "                 'turretKills': data_end['turretKills'],\n",
    "                 'turretsLost': data_end['turretsLost']\n",
    "                 }"
   ]
  },
  {
   "cell_type": "code",
   "execution_count": null,
   "metadata": {},
   "outputs": [],
   "source": [
    "data_end_dict"
   ]
  },
  {
   "cell_type": "code",
   "execution_count": null,
   "metadata": {},
   "outputs": [],
   "source": [
    "url_tl = 'https://asia.api.riotgames.com/lol/match/v5/matches/' + mid + '/timeline'\n",
    "resp_tl = requests.get(url_tl, headers=request_header)"
   ]
  },
  {
   "cell_type": "code",
   "execution_count": null,
   "metadata": {},
   "outputs": [],
   "source": [
    "data_15 = resp_tl.json()['info']['frames'][15]['participantFrames'][str(part_id)]\n",
    "data_15_dict = {'totalDamageDone15': data_15['damageStats']['totalDamageDone'],\n",
    "                'totalDamageDoneToChampions15': data_15['damageStats']['totalDamageDoneToChampions'],\n",
    "                'totalDamageTaken15': data_15['damageStats']['totalDamageTaken'],\n",
    "                'level15': data_15['level'],\n",
    "                'xp15': data_15['xp'],\n",
    "                'minionsKilled15': data_15['minionsKilled'],\n",
    "                'totalGold15': data_15['totalGold']\n",
    "                }"
   ]
  },
  {
   "cell_type": "code",
   "execution_count": null,
   "metadata": {},
   "outputs": [],
   "source": [
    "data_15_dict"
   ]
  },
  {
   "cell_type": "code",
   "execution_count": null,
   "metadata": {},
   "outputs": [],
   "source": [
    "x = resp_tl.json()['info']['frames'][8]['events']\n",
    "for i in range(len(x)):\n",
    "    if list(x[i])[0] == 'assistingParticipantIds':\n",
    "        print(i, x[i]['assistingParticipantIds'], x[i]['killerId'], x[i]['victimId'])\n",
    "\n",
    "        if 9 in x[i]['assistingParticipantIds']:\n",
    "            print('\\tassist')\n",
    "        if 9 == x[i]['killerId']:\n",
    "            print('\\tkill')\n",
    "        if 9 == x[i]['victimId']:\n",
    "            print('\\tdeath')"
   ]
  },
  {
   "cell_type": "code",
   "execution_count": null,
   "metadata": {},
   "outputs": [],
   "source": [
    "data_15_kda = {'kills15': 0, 'deaths15': 0, 'assists15': 0}"
   ]
  },
  {
   "cell_type": "code",
   "execution_count": null,
   "metadata": {},
   "outputs": [],
   "source": [
    "for times in range(0, 16):\n",
    "    events = resp_tl.json()['info']['frames'][times]['events']\n",
    "\n",
    "    for i in range(len(events)):\n",
    "        if list(events[i])[0] == 'assistingParticipantIds' and events[i]['type'] == 'CHAMPION_KILL':\n",
    "            \n",
    "            if part_id == events[i]['killerId']:\n",
    "                data_15_kda['kills15'] += 1\n",
    "\n",
    "            if part_id == events[i]['victimId']:\n",
    "                data_15_kda['deaths15'] += 1\n",
    "\n",
    "            if part_id in events[i]['assistingParticipantIds']:\n",
    "                data_15_kda['assists15'] += 1"
   ]
  },
  {
   "cell_type": "code",
   "execution_count": null,
   "metadata": {},
   "outputs": [],
   "source": [
    "data_15_kda"
   ]
  },
  {
   "cell_type": "code",
   "execution_count": null,
   "metadata": {},
   "outputs": [],
   "source": [
    "basedict.update(data_end_dict)\n",
    "basedict.update(data_15_dict)\n",
    "basedict.update(data_15_kda)"
   ]
  },
  {
   "cell_type": "code",
   "execution_count": null,
   "metadata": {},
   "outputs": [],
   "source": [
    "basedict"
   ]
  },
  {
   "cell_type": "code",
   "execution_count": null,
   "metadata": {},
   "outputs": [],
   "source": [
    "df_match.append(basedict, ignore_index=True)"
   ]
  },
  {
   "cell_type": "code",
   "execution_count": null,
   "metadata": {},
   "outputs": [],
   "source": []
  },
  {
   "cell_type": "markdown",
   "metadata": {},
   "source": [
    "##### -----"
   ]
  },
  {
   "cell_type": "code",
   "execution_count": null,
   "metadata": {},
   "outputs": [],
   "source": [
    "tempdf = df_match.copy()\n",
    "tempdf\n"
   ]
  },
  {
   "cell_type": "code",
   "execution_count": null,
   "metadata": {},
   "outputs": [],
   "source": [
    "temp_dict = {'win':True, 'kills':10, 'deaths':20, 'assists':30}\n",
    "td2 = {'new': False}"
   ]
  },
  {
   "cell_type": "code",
   "execution_count": null,
   "metadata": {},
   "outputs": [],
   "source": [
    "tempdf = pd.DataFrame(columns=['win', 'kills', 'deaths', 'assists', 'new'])"
   ]
  },
  {
   "cell_type": "code",
   "execution_count": null,
   "metadata": {},
   "outputs": [],
   "source": [
    "for key, value in temp_dict.items():\n",
    "    print(key, value)\n",
    "    tempdf.append(temp_dict, ignore_index=True)\n",
    "\n",
    "tempdf"
   ]
  },
  {
   "cell_type": "code",
   "execution_count": null,
   "metadata": {},
   "outputs": [],
   "source": [
    "temp_dict.update(td2)"
   ]
  },
  {
   "cell_type": "code",
   "execution_count": null,
   "metadata": {},
   "outputs": [],
   "source": [
    "temp_dict"
   ]
  },
  {
   "cell_type": "code",
   "execution_count": null,
   "metadata": {},
   "outputs": [],
   "source": [
    "tempdf.append(temp_dict, ignore_index=True)"
   ]
  },
  {
   "cell_type": "code",
   "execution_count": null,
   "metadata": {},
   "outputs": [],
   "source": []
  },
  {
   "cell_type": "code",
   "execution_count": null,
   "metadata": {},
   "outputs": [],
   "source": [
    "requests.get('http://ddragon.leagueoflegends.com/cdn/13.17.1/data/en_US/item.json').json()['data']['1001']['image']['full']"
   ]
  },
  {
   "cell_type": "code",
   "execution_count": null,
   "metadata": {},
   "outputs": [],
   "source": []
  },
  {
   "cell_type": "code",
   "execution_count": null,
   "metadata": {},
   "outputs": [],
   "source": [
    "url = 'https://asia.api.riotgames.com/lol/match/v5/matches/' + df2['match1'][0] + '/timeline'\n",
    "response = requests.get(url, headers=request_header)\n",
    "printjs(response.json())"
   ]
  },
  {
   "cell_type": "code",
   "execution_count": null,
   "metadata": {},
   "outputs": [],
   "source": [
    "response.json()['info'].keys()"
   ]
  },
  {
   "cell_type": "code",
   "execution_count": null,
   "metadata": {},
   "outputs": [],
   "source": [
    "response.json()['info']['frames']"
   ]
  },
  {
   "cell_type": "code",
   "execution_count": null,
   "metadata": {},
   "outputs": [],
   "source": [
    "temp = response.json()['info']\n",
    "len(temp['frames'])"
   ]
  },
  {
   "cell_type": "code",
   "execution_count": null,
   "metadata": {},
   "outputs": [],
   "source": [
    "for x in temp['frames']:\n",
    "    del x['participantFrames']"
   ]
  },
  {
   "cell_type": "code",
   "execution_count": null,
   "metadata": {},
   "outputs": [],
   "source": [
    "temp['frames']"
   ]
  },
  {
   "cell_type": "markdown",
   "metadata": {},
   "source": [
    "#### 15분\n",
    "* 서렌 가능 시간\n",
    "* 포탑 방패가 사라지는 14분 + 이후 타워가 깨질 수 있는 시간 약 1분\n",
    "* 챔피언 성능이 달라지는 1코어 이상(1.5코어) 아이템 소지"
   ]
  },
  {
   "cell_type": "code",
   "execution_count": null,
   "metadata": {},
   "outputs": [],
   "source": []
  },
  {
   "cell_type": "markdown",
   "metadata": {},
   "source": [
    "#### 10분?\n",
    "* 다른 라이너의 큰 개입 없이 라인전이 이루어지는 시간\n",
    "* 서포터까지도 충분히 궁극기를 배우고 교전에 적극 참여하기 충분한 시간\n",
    "* 12~13분이면 라인전이 끝남, 15분은 거의 3번째 용"
   ]
  },
  {
   "cell_type": "code",
   "execution_count": null,
   "metadata": {},
   "outputs": [],
   "source": []
  }
 ],
 "metadata": {
  "kernelspec": {
   "display_name": "base",
   "language": "python",
   "name": "python3"
  },
  "language_info": {
   "codemirror_mode": {
    "name": "ipython",
    "version": 3
   },
   "file_extension": ".py",
   "mimetype": "text/x-python",
   "name": "python",
   "nbconvert_exporter": "python",
   "pygments_lexer": "ipython3",
   "version": "3.8.8"
  },
  "orig_nbformat": 4
 },
 "nbformat": 4,
 "nbformat_minor": 2
}
