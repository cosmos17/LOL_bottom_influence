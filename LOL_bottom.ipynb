{
 "cells": [
  {
   "cell_type": "markdown",
   "metadata": {},
   "source": [
    "## 바텀 라인의 영향력 분석"
   ]
  },
  {
   "cell_type": "code",
   "execution_count": 1,
   "metadata": {},
   "outputs": [],
   "source": [
    "import pandas as pd\n",
    "import requests\n",
    "from urllib.parse import quote as quotekr # 한글 아이디를 인코딩 parse.quote\n",
    "import time"
   ]
  },
  {
   "cell_type": "code",
   "execution_count": 2,
   "metadata": {},
   "outputs": [],
   "source": [
    "api_key = 'RGAPI-547e5336-c2d4-4db0-8298-1bc1b0f5d74a'\n",
    "request_header = {\n",
    "                \"User-Agent\": \"Mozilla/5.0 (Windows NT 10.0; Win64; x64) AppleWebKit/537.36 (KHTML, like Gecko) Chrome/91.0.4472.164 Safari/537.36\",\n",
    "                \"Accept-Language\": \"ko,en-US;q=0.9,en;q=0.8,es;q=0.7\",\n",
    "                \"Accept-Charset\": \"application/x-www-form-urlencoded; charset=UTF-8\",\n",
    "                \"Origin\": \"https://developer.riotgames.com\",\n",
    "                \"X-Riot-Token\": api_key\n",
    "                }"
   ]
  },
  {
   "cell_type": "markdown",
   "metadata": {},
   "source": [
    "#### 티어별 유저 5명 선별\n",
    "* op.gg에서 무작위 추출\n",
    "* Most top 3 챔피언이 모두 원거리 딜러\n",
    "* 랭크 선호 포지션이 바텀 비율이 월등히 높은 사람\n",
    "* 솔로랭크 50판 이상"
   ]
  },
  {
   "cell_type": "code",
   "execution_count": null,
   "metadata": {},
   "outputs": [],
   "source": [
    "grand_master_user = ['줄라이77', '바텀개', 'always crying', '침대위섹시카이팅', '미드KING']\n",
    "diamond_user = ['세혀닝', '강한남자한만윤', 'FEARN0T', '잘해봐요괜찮아요', '쿠로미짱이현']\n",
    "# emerald_user = ['정의는 승리한다v', 'no return0', 'Cigar3', '주희보고싶은민교', 'Asnm']\n",
    "emerald_user = ['정의는 승리한다v', 'no return0', 'Cigar3', '김잼니', 'Asnm']\n",
    "platinum_user = ['협곡의 맙소사', '엄딴식', '지구뚝배기', '08년생 큐티정민', 'Gucci Vs']\n",
    "gold_user = ['루픠는못말려', '홍구형', '카이팅의 귀재', 'Orangerie', '쥐파티']\n",
    "\n",
    "grand_master_puuid = []\n",
    "diamond_puuid = []\n",
    "emerald_puuid = []\n",
    "platinum_puuid = []\n",
    "gold_puuid = []"
   ]
  },
  {
   "cell_type": "code",
   "execution_count": null,
   "metadata": {},
   "outputs": [],
   "source": [
    "def user_puuid(users, puuids):\n",
    "    for user in users:\n",
    "        url = 'https://kr.api.riotgames.com/lol/summoner/v4/summoners/by-name/' + quotekr(user)\n",
    "        response = requests.get(url, headers=request_header)\n",
    "        \n",
    "        if response.status_code == 200: # Success\n",
    "            pass\n",
    "\n",
    "        elif response.status_code == 429: # Rate limit exceeded\n",
    "            print('Rate limit exceeded error, api cost full')\n",
    "            start_time = time.time()\n",
    "\n",
    "            while True:\n",
    "                if response.status_code == 200:\n",
    "                    print('total wait time : ', time.time() - start_time)\n",
    "                    print('recovery api cost')\n",
    "                    break\n",
    "                else:\n",
    "                    print('try 3 second wait time')\n",
    "                    time.sleep(3)\n",
    "                    response = requests.get(url, headers=request_header)\n",
    "\n",
    "        elif response.status_code == 503: # Service unavailable\n",
    "            print('Service unavailable error')\n",
    "            start_time = time.time()\n",
    "\n",
    "            while True:\n",
    "                if response.status_code == 200:\n",
    "                    print('total wait time : ', time.time() - start_time)\n",
    "                    print('recovery api cost')\n",
    "                    break\n",
    "                else:\n",
    "                    print('try 5 second wait time')\n",
    "                    time.sleep(5)\n",
    "                    response = requests.get(url, headers=request_header)\n",
    "\n",
    "        elif response.status_code == 403: # Forbidden\n",
    "            print('Forbidden error, you need api renewal')\n",
    "            print('break')\n",
    "            return\n",
    "\n",
    "        puuids.append(response.json()['puuid'])"
   ]
  },
  {
   "cell_type": "code",
   "execution_count": null,
   "metadata": {},
   "outputs": [],
   "source": [
    "# def user_puuid2(users, puuids):\n",
    "#     for user in users:\n",
    "#         url = 'https://kr.api.riotgames.com/lol/summoner/v4/summoners/by-name/' + quotekr(user)\n",
    "#         response = requests.get(url, headers=request_header)\n",
    "\n",
    "#         if response.status_code == 200:\n",
    "#             pass\n",
    "        \n",
    "#         elif response.status_code == 429:\n",
    "#             print(\"sleep\", user, ' ', response.headers['Retry-After'])\n",
    "#             time.sleep(int(response.headers['Retry-After']) + 5)\n",
    "#             response = requests.get(url, headers=request_header)\n",
    "\n",
    "#         puuids.append(response.json()['puuid'])"
   ]
  },
  {
   "cell_type": "code",
   "execution_count": null,
   "metadata": {},
   "outputs": [],
   "source": [
    "user_puuid(grand_master_user, grand_master_puuid)\n",
    "user_puuid(diamond_user, diamond_puuid)\n",
    "user_puuid(emerald_user, emerald_puuid)\n",
    "user_puuid(platinum_user, platinum_puuid)\n",
    "user_puuid(gold_user, gold_puuid)"
   ]
  },
  {
   "cell_type": "code",
   "execution_count": null,
   "metadata": {},
   "outputs": [],
   "source": [
    "grand_master_df = pd.DataFrame({\n",
    "    'tier': ['grand_master' for i in range(5)],\n",
    "    'summoner': grand_master_user,\n",
    "    'puuid': grand_master_puuid\n",
    "    })\n",
    "\n",
    "diamond_df = pd.DataFrame({\n",
    "    'tier': ['diamond' for i in range(5)],\n",
    "    'summoner': diamond_user,\n",
    "    'puuid': diamond_puuid\n",
    "    })\n",
    "\n",
    "emerald_df = pd.DataFrame({\n",
    "    'tier': ['emerald' for i in range(5)],\n",
    "    'summoner': emerald_user,\n",
    "    'puuid': emerald_puuid\n",
    "    })\n",
    "\n",
    "platinum_df = pd.DataFrame({\n",
    "    'tier': ['platinum' for i in range(5)],\n",
    "    'summoner': platinum_user,\n",
    "    'puuid': platinum_puuid\n",
    "    })\n",
    "\n",
    "gold_df = pd.DataFrame({\n",
    "    'tier': ['gold' for i in range(5)],\n",
    "    'summoner': gold_user,\n",
    "    'puuid': gold_puuid\n",
    "    })"
   ]
  },
  {
   "cell_type": "code",
   "execution_count": null,
   "metadata": {},
   "outputs": [],
   "source": [
    "df = pd.concat([grand_master_df, diamond_df, emerald_df, platinum_df, gold_df], ignore_index=True)\n",
    "display(df.head(2))\n",
    "display(df.tail(2))"
   ]
  },
  {
   "cell_type": "code",
   "execution_count": 6,
   "metadata": {},
   "outputs": [],
   "source": [
    "df.to_excel('puuid_data2.xlsx', index=False)"
   ]
  },
  {
   "cell_type": "code",
   "execution_count": 3,
   "metadata": {},
   "outputs": [
    {
     "data": {
      "text/html": [
       "<div>\n",
       "<style scoped>\n",
       "    .dataframe tbody tr th:only-of-type {\n",
       "        vertical-align: middle;\n",
       "    }\n",
       "\n",
       "    .dataframe tbody tr th {\n",
       "        vertical-align: top;\n",
       "    }\n",
       "\n",
       "    .dataframe thead th {\n",
       "        text-align: right;\n",
       "    }\n",
       "</style>\n",
       "<table border=\"1\" class=\"dataframe\">\n",
       "  <thead>\n",
       "    <tr style=\"text-align: right;\">\n",
       "      <th></th>\n",
       "      <th>tier</th>\n",
       "      <th>summoner</th>\n",
       "      <th>puuid</th>\n",
       "    </tr>\n",
       "  </thead>\n",
       "  <tbody>\n",
       "    <tr>\n",
       "      <th>0</th>\n",
       "      <td>grand_master</td>\n",
       "      <td>줄라이77</td>\n",
       "      <td>ZPFTEsnEwgz0EfXyXbdlj3HIzoKdjLJmkM4p8v4H9EYlEW...</td>\n",
       "    </tr>\n",
       "    <tr>\n",
       "      <th>1</th>\n",
       "      <td>grand_master</td>\n",
       "      <td>바텀개</td>\n",
       "      <td>EXr7XpD4deA3djszdNHUGUOVNcRxMwC26KdDhgGE3fJk9H...</td>\n",
       "    </tr>\n",
       "  </tbody>\n",
       "</table>\n",
       "</div>"
      ],
      "text/plain": [
       "           tier summoner                                              puuid\n",
       "0  grand_master    줄라이77  ZPFTEsnEwgz0EfXyXbdlj3HIzoKdjLJmkM4p8v4H9EYlEW...\n",
       "1  grand_master      바텀개  EXr7XpD4deA3djszdNHUGUOVNcRxMwC26KdDhgGE3fJk9H..."
      ]
     },
     "metadata": {},
     "output_type": "display_data"
    },
    {
     "data": {
      "text/html": [
       "<div>\n",
       "<style scoped>\n",
       "    .dataframe tbody tr th:only-of-type {\n",
       "        vertical-align: middle;\n",
       "    }\n",
       "\n",
       "    .dataframe tbody tr th {\n",
       "        vertical-align: top;\n",
       "    }\n",
       "\n",
       "    .dataframe thead th {\n",
       "        text-align: right;\n",
       "    }\n",
       "</style>\n",
       "<table border=\"1\" class=\"dataframe\">\n",
       "  <thead>\n",
       "    <tr style=\"text-align: right;\">\n",
       "      <th></th>\n",
       "      <th>tier</th>\n",
       "      <th>summoner</th>\n",
       "      <th>puuid</th>\n",
       "    </tr>\n",
       "  </thead>\n",
       "  <tbody>\n",
       "    <tr>\n",
       "      <th>23</th>\n",
       "      <td>gold</td>\n",
       "      <td>Orangerie</td>\n",
       "      <td>lAoGAWR0v4y0QbDTOMFKjFv_LlKfh_ymsZYyHsLkrr8xGM...</td>\n",
       "    </tr>\n",
       "    <tr>\n",
       "      <th>24</th>\n",
       "      <td>gold</td>\n",
       "      <td>쥐파티</td>\n",
       "      <td>CFbEyz3fMIYwR8t9htV_iKMT0OZKNK6gw0KWLeTajCG1aw...</td>\n",
       "    </tr>\n",
       "  </tbody>\n",
       "</table>\n",
       "</div>"
      ],
      "text/plain": [
       "    tier   summoner                                              puuid\n",
       "23  gold  Orangerie  lAoGAWR0v4y0QbDTOMFKjFv_LlKfh_ymsZYyHsLkrr8xGM...\n",
       "24  gold        쥐파티  CFbEyz3fMIYwR8t9htV_iKMT0OZKNK6gw0KWLeTajCG1aw..."
      ]
     },
     "metadata": {},
     "output_type": "display_data"
    }
   ],
   "source": [
    "df = pd.read_excel('puuid_data2.xlsx')\n",
    "display(df.head(2))\n",
    "display(df.tail(2))\n"
   ]
  },
  {
   "cell_type": "code",
   "execution_count": 4,
   "metadata": {},
   "outputs": [
    {
     "data": {
      "text/html": [
       "<div>\n",
       "<style scoped>\n",
       "    .dataframe tbody tr th:only-of-type {\n",
       "        vertical-align: middle;\n",
       "    }\n",
       "\n",
       "    .dataframe tbody tr th {\n",
       "        vertical-align: top;\n",
       "    }\n",
       "\n",
       "    .dataframe thead th {\n",
       "        text-align: right;\n",
       "    }\n",
       "</style>\n",
       "<table border=\"1\" class=\"dataframe\">\n",
       "  <thead>\n",
       "    <tr style=\"text-align: right;\">\n",
       "      <th></th>\n",
       "      <th>tier</th>\n",
       "      <th>summoner</th>\n",
       "      <th>puuid</th>\n",
       "    </tr>\n",
       "  </thead>\n",
       "  <tbody>\n",
       "    <tr>\n",
       "      <th>10</th>\n",
       "      <td>emerald</td>\n",
       "      <td>정의는 승리한다v</td>\n",
       "      <td>wXvN9TJlkwSje56uoPtofaIgEoVCUGD63Hewfjw0GjpHO0...</td>\n",
       "    </tr>\n",
       "    <tr>\n",
       "      <th>11</th>\n",
       "      <td>emerald</td>\n",
       "      <td>no return0</td>\n",
       "      <td>GqsVg3QvhFw--4L0ascFso9yMh0eKrz9FdKtCf_leW4UOm...</td>\n",
       "    </tr>\n",
       "    <tr>\n",
       "      <th>12</th>\n",
       "      <td>emerald</td>\n",
       "      <td>Cigar3</td>\n",
       "      <td>eS7tRJlBcG3HdFA9LH0zq1s1wXzwMHKRgnQFMWYvwsf0Fk...</td>\n",
       "    </tr>\n",
       "    <tr>\n",
       "      <th>13</th>\n",
       "      <td>emerald</td>\n",
       "      <td>주희보고싶은민교</td>\n",
       "      <td>Xu3Qh7PO0LgD2nSaH4aUy_iShItuHwcXW5hw-r0yE41Pcv...</td>\n",
       "    </tr>\n",
       "    <tr>\n",
       "      <th>14</th>\n",
       "      <td>emerald</td>\n",
       "      <td>Asnm</td>\n",
       "      <td>ev4ifUpwp6BDTaM8r2UERk6flI2aqfprAfUHho3M8rPPey...</td>\n",
       "    </tr>\n",
       "    <tr>\n",
       "      <th>15</th>\n",
       "      <td>platinum</td>\n",
       "      <td>협곡의 맙소사</td>\n",
       "      <td>tehmv7dX7eC5ZTZZjrzVIsTMBCb7J07UVBSQjSYK-5PoUJ...</td>\n",
       "    </tr>\n",
       "  </tbody>\n",
       "</table>\n",
       "</div>"
      ],
      "text/plain": [
       "        tier    summoner                                              puuid\n",
       "10   emerald   정의는 승리한다v  wXvN9TJlkwSje56uoPtofaIgEoVCUGD63Hewfjw0GjpHO0...\n",
       "11   emerald  no return0  GqsVg3QvhFw--4L0ascFso9yMh0eKrz9FdKtCf_leW4UOm...\n",
       "12   emerald      Cigar3  eS7tRJlBcG3HdFA9LH0zq1s1wXzwMHKRgnQFMWYvwsf0Fk...\n",
       "13   emerald    주희보고싶은민교  Xu3Qh7PO0LgD2nSaH4aUy_iShItuHwcXW5hw-r0yE41Pcv...\n",
       "14   emerald        Asnm  ev4ifUpwp6BDTaM8r2UERk6flI2aqfprAfUHho3M8rPPey...\n",
       "15  platinum     협곡의 맙소사  tehmv7dX7eC5ZTZZjrzVIsTMBCb7J07UVBSQjSYK-5PoUJ..."
      ]
     },
     "execution_count": 4,
     "metadata": {},
     "output_type": "execute_result"
    }
   ],
   "source": [
    "df.loc[10:15]"
   ]
  },
  {
   "cell_type": "code",
   "execution_count": 5,
   "metadata": {},
   "outputs": [
    {
     "data": {
      "text/html": [
       "<div>\n",
       "<style scoped>\n",
       "    .dataframe tbody tr th:only-of-type {\n",
       "        vertical-align: middle;\n",
       "    }\n",
       "\n",
       "    .dataframe tbody tr th {\n",
       "        vertical-align: top;\n",
       "    }\n",
       "\n",
       "    .dataframe thead th {\n",
       "        text-align: right;\n",
       "    }\n",
       "</style>\n",
       "<table border=\"1\" class=\"dataframe\">\n",
       "  <thead>\n",
       "    <tr style=\"text-align: right;\">\n",
       "      <th></th>\n",
       "      <th>tier</th>\n",
       "      <th>summoner</th>\n",
       "      <th>puuid</th>\n",
       "    </tr>\n",
       "  </thead>\n",
       "  <tbody>\n",
       "    <tr>\n",
       "      <th>10</th>\n",
       "      <td>emerald</td>\n",
       "      <td>정의는 승리한다v</td>\n",
       "      <td>wXvN9TJlkwSje56uoPtofaIgEoVCUGD63Hewfjw0GjpHO0...</td>\n",
       "    </tr>\n",
       "    <tr>\n",
       "      <th>11</th>\n",
       "      <td>emerald</td>\n",
       "      <td>no return0</td>\n",
       "      <td>GqsVg3QvhFw--4L0ascFso9yMh0eKrz9FdKtCf_leW4UOm...</td>\n",
       "    </tr>\n",
       "    <tr>\n",
       "      <th>12</th>\n",
       "      <td>emerald</td>\n",
       "      <td>Cigar3</td>\n",
       "      <td>eS7tRJlBcG3HdFA9LH0zq1s1wXzwMHKRgnQFMWYvwsf0Fk...</td>\n",
       "    </tr>\n",
       "    <tr>\n",
       "      <th>13</th>\n",
       "      <td>emerald</td>\n",
       "      <td>김잼니</td>\n",
       "      <td>LiQXFaJ4mVIhWVm511xSCIs6MS86Dt_awK6InfFBVKYgjZ...</td>\n",
       "    </tr>\n",
       "    <tr>\n",
       "      <th>14</th>\n",
       "      <td>emerald</td>\n",
       "      <td>Asnm</td>\n",
       "      <td>ev4ifUpwp6BDTaM8r2UERk6flI2aqfprAfUHho3M8rPPey...</td>\n",
       "    </tr>\n",
       "    <tr>\n",
       "      <th>15</th>\n",
       "      <td>platinum</td>\n",
       "      <td>협곡의 맙소사</td>\n",
       "      <td>tehmv7dX7eC5ZTZZjrzVIsTMBCb7J07UVBSQjSYK-5PoUJ...</td>\n",
       "    </tr>\n",
       "  </tbody>\n",
       "</table>\n",
       "</div>"
      ],
      "text/plain": [
       "        tier    summoner                                              puuid\n",
       "10   emerald   정의는 승리한다v  wXvN9TJlkwSje56uoPtofaIgEoVCUGD63Hewfjw0GjpHO0...\n",
       "11   emerald  no return0  GqsVg3QvhFw--4L0ascFso9yMh0eKrz9FdKtCf_leW4UOm...\n",
       "12   emerald      Cigar3  eS7tRJlBcG3HdFA9LH0zq1s1wXzwMHKRgnQFMWYvwsf0Fk...\n",
       "13   emerald         김잼니  LiQXFaJ4mVIhWVm511xSCIs6MS86Dt_awK6InfFBVKYgjZ...\n",
       "14   emerald        Asnm  ev4ifUpwp6BDTaM8r2UERk6flI2aqfprAfUHho3M8rPPey...\n",
       "15  platinum     협곡의 맙소사  tehmv7dX7eC5ZTZZjrzVIsTMBCb7J07UVBSQjSYK-5PoUJ..."
      ]
     },
     "execution_count": 5,
     "metadata": {},
     "output_type": "execute_result"
    }
   ],
   "source": [
    "# 주희보고싶은민교\n",
    "# 포지션 변경으로 적정 데이터 수집 불가, 소환사 변경\n",
    "df.loc[13] = ['emerald', '김잼니', 'LiQXFaJ4mVIhWVm511xSCIs6MS86Dt_awK6InfFBVKYgjZ_Tt-Ldzc1z7m2Q5iee8Ooj-17HEqn0qg']\n",
    "df.loc[10:15]"
   ]
  },
  {
   "cell_type": "markdown",
   "metadata": {},
   "source": [
    "#### 데이터 수집\n",
    "* '바텀 게임' 이라는 말이 줄기 시작한 13.6패치가 3월 중순\n",
    "* 1주일에 랭크게임 5판 한다고 가정\n",
    "* 현재 8월 말이므로 약 20주\n",
    "* 100게임 이전 인당 10판"
   ]
  },
  {
   "cell_type": "code",
   "execution_count": 8,
   "metadata": {},
   "outputs": [],
   "source": [
    "def find_partiId(mat_data_resp, puuid):\n",
    "    return mat_data_resp.json()['metadata']['participants'].index(puuid)"
   ]
  },
  {
   "cell_type": "code",
   "execution_count": 13,
   "metadata": {},
   "outputs": [],
   "source": [
    "def puuid_to_matchid(puuid):\n",
    "    match_ids = []\n",
    "    start = 120\n",
    "    count = 40\n",
    "\n",
    "    while len(match_ids) < 10: # 10경기 추출\n",
    "        matches_url = f'https://asia.api.riotgames.com/lol/match/v5/matches/by-puuid/{puuid}/ids?start={start}&count={count}'\n",
    "        match_list_resp = requests.get(matches_url, headers=request_header)\n",
    "\n",
    "        while match_list_resp.status_code == 429: # Rate limit exceed\n",
    "            print(retry_count, \" sleep match_list\", match_list_resp.headers['Retry-After'])\n",
    "            retry_count += 1\n",
    "            time.sleep(int(match_list_resp.headers['Retry-After']) + 5)\n",
    "            match_list_resp = requests.get(matches_url, headers=request_header)\n",
    "\n",
    "        if match_list_resp.status_code == 200:\n",
    "            for mat_id in match_list_resp.json():\n",
    "                if len(match_ids) == 10:\n",
    "                    break\n",
    "\n",
    "                mat_url = 'https://asia.api.riotgames.com/lol/match/v5/matches/' + mat_id\n",
    "                mat_data_resp = requests.get(mat_url, headers=request_header)\n",
    "\n",
    "                while mat_data_resp.status_code == 429: # Rate limit exceed\n",
    "                    print(retry_count, \" sleep mat_data\", mat_data_resp.headers['Retry-After'])\n",
    "                    retry_count += 1\n",
    "                    time.sleep(int(mat_data_resp.headers['Retry-After']) + 5)\n",
    "                    mat_data_resp = requests.get(mat_url, headers=request_header)\n",
    "\n",
    "                if mat_data_resp.status_code == 200:\n",
    "                    if mat_data_resp.json()['info']['gameMode'] == 'CLASSIC' \\\n",
    "                        and len(mat_data_resp.json()['info']['teams'][0]['bans']) > 0 \\\n",
    "                        and mat_data_resp.json()['info']['participants'][0]['gameEndedInEarlySurrender'] == False \\\n",
    "                        and mat_data_resp.json()['info']['gameDuration'] > 1500 \\\n",
    "                        and mat_data_resp.json()['info']['participants'][find_partiId(mat_data_resp, puuid)]['teamPosition'] == 'BOTTOM':\n",
    "                        # 소환사 협곡\n",
    "                        # 밴이 있음\n",
    "                        # 재시작 경기 x\n",
    "                        # 15분 이상\n",
    "                        # 해당 소환사가 바텀라인\n",
    "\n",
    "                        match_ids.append(mat_id)\n",
    "\n",
    "                else:\n",
    "                    print('\\n\\terror ', mat_data_resp.status_code)\n",
    "                    print('\\t', puuid)\n",
    "                    break\n",
    "\n",
    "            start += count\n",
    "\n",
    "        else:\n",
    "            print('\\n\\terror ', match_list_resp.status_code)\n",
    "            print('\\t', match_ids)\n",
    "            break\n",
    "\n",
    "    return match_ids"
   ]
  },
  {
   "cell_type": "code",
   "execution_count": 10,
   "metadata": {},
   "outputs": [
    {
     "data": {
      "text/html": [
       "<div>\n",
       "<style scoped>\n",
       "    .dataframe tbody tr th:only-of-type {\n",
       "        vertical-align: middle;\n",
       "    }\n",
       "\n",
       "    .dataframe tbody tr th {\n",
       "        vertical-align: top;\n",
       "    }\n",
       "\n",
       "    .dataframe thead th {\n",
       "        text-align: right;\n",
       "    }\n",
       "</style>\n",
       "<table border=\"1\" class=\"dataframe\">\n",
       "  <thead>\n",
       "    <tr style=\"text-align: right;\">\n",
       "      <th></th>\n",
       "      <th>match1</th>\n",
       "      <th>match2</th>\n",
       "      <th>match3</th>\n",
       "      <th>match4</th>\n",
       "      <th>match5</th>\n",
       "      <th>match6</th>\n",
       "      <th>match7</th>\n",
       "      <th>match8</th>\n",
       "      <th>match9</th>\n",
       "      <th>match10</th>\n",
       "    </tr>\n",
       "  </thead>\n",
       "  <tbody>\n",
       "  </tbody>\n",
       "</table>\n",
       "</div>"
      ],
      "text/plain": [
       "Empty DataFrame\n",
       "Columns: [match1, match2, match3, match4, match5, match6, match7, match8, match9, match10]\n",
       "Index: []"
      ]
     },
     "execution_count": 10,
     "metadata": {},
     "output_type": "execute_result"
    }
   ],
   "source": [
    "col = [('match' + str(x)) for x in range(1, 11)]\n",
    "df_puuid = pd.DataFrame(columns=col)\n",
    "df_puuid"
   ]
  },
  {
   "cell_type": "code",
   "execution_count": 11,
   "metadata": {},
   "outputs": [
    {
     "data": {
      "text/html": [
       "<div>\n",
       "<style scoped>\n",
       "    .dataframe tbody tr th:only-of-type {\n",
       "        vertical-align: middle;\n",
       "    }\n",
       "\n",
       "    .dataframe tbody tr th {\n",
       "        vertical-align: top;\n",
       "    }\n",
       "\n",
       "    .dataframe thead th {\n",
       "        text-align: right;\n",
       "    }\n",
       "</style>\n",
       "<table border=\"1\" class=\"dataframe\">\n",
       "  <thead>\n",
       "    <tr style=\"text-align: right;\">\n",
       "      <th></th>\n",
       "      <th>tier</th>\n",
       "      <th>summoner</th>\n",
       "      <th>puuid</th>\n",
       "    </tr>\n",
       "  </thead>\n",
       "  <tbody>\n",
       "    <tr>\n",
       "      <th>0</th>\n",
       "      <td>grand_master</td>\n",
       "      <td>줄라이77</td>\n",
       "      <td>ZPFTEsnEwgz0EfXyXbdlj3HIzoKdjLJmkM4p8v4H9EYlEW...</td>\n",
       "    </tr>\n",
       "    <tr>\n",
       "      <th>1</th>\n",
       "      <td>grand_master</td>\n",
       "      <td>바텀개</td>\n",
       "      <td>EXr7XpD4deA3djszdNHUGUOVNcRxMwC26KdDhgGE3fJk9H...</td>\n",
       "    </tr>\n",
       "  </tbody>\n",
       "</table>\n",
       "</div>"
      ],
      "text/plain": [
       "           tier summoner                                              puuid\n",
       "0  grand_master    줄라이77  ZPFTEsnEwgz0EfXyXbdlj3HIzoKdjLJmkM4p8v4H9EYlEW...\n",
       "1  grand_master      바텀개  EXr7XpD4deA3djszdNHUGUOVNcRxMwC26KdDhgGE3fJk9H..."
      ]
     },
     "metadata": {},
     "output_type": "display_data"
    },
    {
     "data": {
      "text/html": [
       "<div>\n",
       "<style scoped>\n",
       "    .dataframe tbody tr th:only-of-type {\n",
       "        vertical-align: middle;\n",
       "    }\n",
       "\n",
       "    .dataframe tbody tr th {\n",
       "        vertical-align: top;\n",
       "    }\n",
       "\n",
       "    .dataframe thead th {\n",
       "        text-align: right;\n",
       "    }\n",
       "</style>\n",
       "<table border=\"1\" class=\"dataframe\">\n",
       "  <thead>\n",
       "    <tr style=\"text-align: right;\">\n",
       "      <th></th>\n",
       "      <th>tier</th>\n",
       "      <th>summoner</th>\n",
       "      <th>puuid</th>\n",
       "    </tr>\n",
       "  </thead>\n",
       "  <tbody>\n",
       "    <tr>\n",
       "      <th>23</th>\n",
       "      <td>gold</td>\n",
       "      <td>Orangerie</td>\n",
       "      <td>lAoGAWR0v4y0QbDTOMFKjFv_LlKfh_ymsZYyHsLkrr8xGM...</td>\n",
       "    </tr>\n",
       "    <tr>\n",
       "      <th>24</th>\n",
       "      <td>gold</td>\n",
       "      <td>쥐파티</td>\n",
       "      <td>CFbEyz3fMIYwR8t9htV_iKMT0OZKNK6gw0KWLeTajCG1aw...</td>\n",
       "    </tr>\n",
       "  </tbody>\n",
       "</table>\n",
       "</div>"
      ],
      "text/plain": [
       "    tier   summoner                                              puuid\n",
       "23  gold  Orangerie  lAoGAWR0v4y0QbDTOMFKjFv_LlKfh_ymsZYyHsLkrr8xGM...\n",
       "24  gold        쥐파티  CFbEyz3fMIYwR8t9htV_iKMT0OZKNK6gw0KWLeTajCG1aw..."
      ]
     },
     "metadata": {},
     "output_type": "display_data"
    }
   ],
   "source": [
    "display(df.head(2))\n",
    "display(df.tail(2))"
   ]
  },
  {
   "cell_type": "code",
   "execution_count": null,
   "metadata": {},
   "outputs": [],
   "source": [
    "for puuid in df['puuid']:\n",
    "    matchid_list = puuid_to_matchid(puuid)\n",
    "    df_mid = pd.DataFrame([matchid_list[::-1]], columns=col)\n",
    "    df_puuid = pd.concat([df_puuid, df_mid], ignore_index=True)"
   ]
  },
  {
   "cell_type": "code",
   "execution_count": 14,
   "metadata": {},
   "outputs": [
    {
     "name": "stdout",
     "output_type": "stream",
     "text": [
      "0  sleep match_list 90\n",
      "1  sleep match_list 95\n"
     ]
    }
   ],
   "source": [
    "\n",
    "match_ids = []\n",
    "start = 110\n",
    "count = 20\n",
    "retry_count = 0\n",
    "\n",
    "while len(match_ids) < 10: # 10경기 추출\n",
    "    matches_url = f'https://asia.api.riotgames.com/lol/match/v5/matches/by-puuid/{puuid}/ids?start={start}&count={count}'\n",
    "    match_list_resp = requests.get(matches_url, headers=request_header)\n",
    "\n",
    "    while match_list_resp.status_code == 429: # Rate limit exceed\n",
    "        print(retry_count, \" sleep match_list\", match_list_resp.headers['Retry-After'])\n",
    "        retry_count += 1\n",
    "        time.sleep(int(match_list_resp.headers['Retry-After']) + 5)\n",
    "        match_list_resp = requests.get(matches_url, headers=request_header)\n",
    "\n",
    "    if match_list_resp.status_code == 200:\n",
    "        for mat_id in match_list_resp.json():\n",
    "            if len(match_ids) == 10:\n",
    "                break\n",
    "\n",
    "            mat_url = 'https://asia.api.riotgames.com/lol/match/v5/matches/' + mat_id\n",
    "            mat_data_resp = requests.get(mat_url, headers=request_header)\n",
    "\n",
    "            while mat_data_resp.status_code == 429: # Rate limit exceed\n",
    "                print(retry_count, \" sleep mat_data\", mat_data_resp.headers['Retry-After'])\n",
    "                retry_count += 1\n",
    "                time.sleep(int(mat_data_resp.headers['Retry-After']) + 5)\n",
    "                mat_data_resp = requests.get(mat_url, headers=request_header)\n",
    "\n",
    "            if mat_data_resp.status_code == 200:\n",
    "                if mat_data_resp.json()['info']['gameMode'] == 'CLASSIC' \\\n",
    "                    and len(mat_data_resp.json()['info']['teams'][0]['bans']) > 0 \\\n",
    "                    and mat_data_resp.json()['info']['participants'][0]['gameEndedInEarlySurrender'] == False \\\n",
    "                    and mat_data_resp.json()['info']['gameDuration'] > 1500 \\\n",
    "                    and mat_data_resp.json()['info']['participants'][find_partiId(mat_data_resp, puuid)]['teamPosition'] == 'BOTTOM':\n",
    "                    # 소환사 협곡\n",
    "                    # 밴이 있음\n",
    "                    # 재시작 경기 x\n",
    "                    # 15분 이상\n",
    "                    # 해당 소환사가 바텀라인\n",
    "\n",
    "                    match_ids.append(mat_id)\n",
    "\n",
    "            else:\n",
    "                print('\\n\\terror ', mat_data_resp.status_code)\n",
    "                print('\\t', puuid)\n",
    "                break\n",
    "\n",
    "        start += count\n",
    "\n",
    "    else:\n",
    "        print('\\n\\terror ', match_list_resp.status_code)\n",
    "        print('\\t', match_ids)\n",
    "        break\n"
   ]
  },
  {
   "cell_type": "code",
   "execution_count": null,
   "metadata": {},
   "outputs": [],
   "source": [
    "display(df_puuid2)"
   ]
  },
  {
   "cell_type": "code",
   "execution_count": 11,
   "metadata": {},
   "outputs": [
    {
     "data": {
      "text/html": [
       "<div>\n",
       "<style scoped>\n",
       "    .dataframe tbody tr th:only-of-type {\n",
       "        vertical-align: middle;\n",
       "    }\n",
       "\n",
       "    .dataframe tbody tr th {\n",
       "        vertical-align: top;\n",
       "    }\n",
       "\n",
       "    .dataframe thead th {\n",
       "        text-align: right;\n",
       "    }\n",
       "</style>\n",
       "<table border=\"1\" class=\"dataframe\">\n",
       "  <thead>\n",
       "    <tr style=\"text-align: right;\">\n",
       "      <th></th>\n",
       "      <th>match1</th>\n",
       "      <th>match2</th>\n",
       "      <th>match3</th>\n",
       "      <th>match4</th>\n",
       "      <th>match5</th>\n",
       "      <th>match6</th>\n",
       "      <th>match7</th>\n",
       "      <th>match8</th>\n",
       "      <th>match9</th>\n",
       "      <th>match10</th>\n",
       "    </tr>\n",
       "  </thead>\n",
       "  <tbody>\n",
       "    <tr>\n",
       "      <th>0</th>\n",
       "      <td>KR_6613941315</td>\n",
       "      <td>KR_6613987729</td>\n",
       "      <td>KR_6614204138</td>\n",
       "      <td>KR_6619754667</td>\n",
       "      <td>KR_6621536984</td>\n",
       "      <td>KR_6621619421</td>\n",
       "      <td>KR_6622454112</td>\n",
       "      <td>KR_6623973606</td>\n",
       "      <td>KR_6624290079</td>\n",
       "      <td>KR_6624480871</td>\n",
       "    </tr>\n",
       "    <tr>\n",
       "      <th>1</th>\n",
       "      <td>KR_6661857315</td>\n",
       "      <td>KR_6662658092</td>\n",
       "      <td>KR_6662878759</td>\n",
       "      <td>KR_6663816089</td>\n",
       "      <td>KR_6663918544</td>\n",
       "      <td>KR_6663968631</td>\n",
       "      <td>KR_6664044375</td>\n",
       "      <td>KR_6666840236</td>\n",
       "      <td>KR_6667098846</td>\n",
       "      <td>KR_6667275166</td>\n",
       "    </tr>\n",
       "    <tr>\n",
       "      <th>2</th>\n",
       "      <td>KR_6649317059</td>\n",
       "      <td>KR_6649399560</td>\n",
       "      <td>KR_6651641733</td>\n",
       "      <td>KR_6656551553</td>\n",
       "      <td>KR_6657626230</td>\n",
       "      <td>KR_6658072186</td>\n",
       "      <td>KR_6658114347</td>\n",
       "      <td>KR_6659075859</td>\n",
       "      <td>KR_6659283267</td>\n",
       "      <td>KR_6659923271</td>\n",
       "    </tr>\n",
       "    <tr>\n",
       "      <th>3</th>\n",
       "      <td>KR_6505755344</td>\n",
       "      <td>KR_6506836799</td>\n",
       "      <td>KR_6507063069</td>\n",
       "      <td>KR_6508479817</td>\n",
       "      <td>KR_6508528779</td>\n",
       "      <td>KR_6510608163</td>\n",
       "      <td>KR_6515250854</td>\n",
       "      <td>KR_6520524185</td>\n",
       "      <td>KR_6595497208</td>\n",
       "      <td>KR_6597466848</td>\n",
       "    </tr>\n",
       "    <tr>\n",
       "      <th>4</th>\n",
       "      <td>KR_6600350874</td>\n",
       "      <td>KR_6600518396</td>\n",
       "      <td>KR_6600690424</td>\n",
       "      <td>KR_6603571667</td>\n",
       "      <td>KR_6603662270</td>\n",
       "      <td>KR_6606740799</td>\n",
       "      <td>KR_6607340598</td>\n",
       "      <td>KR_6607603522</td>\n",
       "      <td>KR_6607703499</td>\n",
       "      <td>KR_6607898972</td>\n",
       "    </tr>\n",
       "    <tr>\n",
       "      <th>5</th>\n",
       "      <td>KR_6675293991</td>\n",
       "      <td>KR_6677031188</td>\n",
       "      <td>KR_6677223696</td>\n",
       "      <td>KR_6678439789</td>\n",
       "      <td>KR_6678471964</td>\n",
       "      <td>KR_6678726867</td>\n",
       "      <td>KR_6679804541</td>\n",
       "      <td>KR_6680129404</td>\n",
       "      <td>KR_6681420330</td>\n",
       "      <td>KR_6681494325</td>\n",
       "    </tr>\n",
       "    <tr>\n",
       "      <th>6</th>\n",
       "      <td>KR_6483406063</td>\n",
       "      <td>KR_6512503768</td>\n",
       "      <td>KR_6544457043</td>\n",
       "      <td>KR_6560860780</td>\n",
       "      <td>KR_6561935466</td>\n",
       "      <td>KR_6562544040</td>\n",
       "      <td>KR_6562587759</td>\n",
       "      <td>KR_6563164290</td>\n",
       "      <td>KR_6566183643</td>\n",
       "      <td>KR_6572437459</td>\n",
       "    </tr>\n",
       "    <tr>\n",
       "      <th>7</th>\n",
       "      <td>KR_6543581378</td>\n",
       "      <td>KR_6547253696</td>\n",
       "      <td>KR_6549561761</td>\n",
       "      <td>KR_6566278540</td>\n",
       "      <td>KR_6568801782</td>\n",
       "      <td>KR_6568879247</td>\n",
       "      <td>KR_6570507729</td>\n",
       "      <td>KR_6570599405</td>\n",
       "      <td>KR_6570692131</td>\n",
       "      <td>KR_6570780548</td>\n",
       "    </tr>\n",
       "    <tr>\n",
       "      <th>8</th>\n",
       "      <td>KR_6643645803</td>\n",
       "      <td>KR_6644176053</td>\n",
       "      <td>KR_6644273750</td>\n",
       "      <td>KR_6645738229</td>\n",
       "      <td>KR_6645902831</td>\n",
       "      <td>KR_6651306856</td>\n",
       "      <td>KR_6651359462</td>\n",
       "      <td>KR_6651825134</td>\n",
       "      <td>KR_6652007155</td>\n",
       "      <td>KR_6652124381</td>\n",
       "    </tr>\n",
       "    <tr>\n",
       "      <th>9</th>\n",
       "      <td>KR_6611167883</td>\n",
       "      <td>KR_6611251483</td>\n",
       "      <td>KR_6611273171</td>\n",
       "      <td>KR_6613147937</td>\n",
       "      <td>KR_6613216264</td>\n",
       "      <td>KR_6615021843</td>\n",
       "      <td>KR_6615053056</td>\n",
       "      <td>KR_6615069604</td>\n",
       "      <td>KR_6617034482</td>\n",
       "      <td>KR_6617062718</td>\n",
       "    </tr>\n",
       "    <tr>\n",
       "      <th>10</th>\n",
       "      <td>KR_6282624576</td>\n",
       "      <td>KR_6282685741</td>\n",
       "      <td>KR_6282719429</td>\n",
       "      <td>KR_6290233384</td>\n",
       "      <td>KR_6291314438</td>\n",
       "      <td>KR_6291959593</td>\n",
       "      <td>KR_6303736538</td>\n",
       "      <td>KR_6311456070</td>\n",
       "      <td>KR_6312167127</td>\n",
       "      <td>KR_6312267904</td>\n",
       "    </tr>\n",
       "    <tr>\n",
       "      <th>11</th>\n",
       "      <td>KR_6642220942</td>\n",
       "      <td>KR_6642376433</td>\n",
       "      <td>KR_6643365779</td>\n",
       "      <td>KR_6643997416</td>\n",
       "      <td>KR_6644367414</td>\n",
       "      <td>KR_6645843937</td>\n",
       "      <td>KR_6647256378</td>\n",
       "      <td>KR_6648307049</td>\n",
       "      <td>KR_6649011856</td>\n",
       "      <td>KR_6649586066</td>\n",
       "    </tr>\n",
       "    <tr>\n",
       "      <th>12</th>\n",
       "      <td>KR_6608691923</td>\n",
       "      <td>KR_6608778650</td>\n",
       "      <td>KR_6610653577</td>\n",
       "      <td>KR_6611103624</td>\n",
       "      <td>KR_6612944741</td>\n",
       "      <td>KR_6613176744</td>\n",
       "      <td>KR_6613191823</td>\n",
       "      <td>KR_6613209307</td>\n",
       "      <td>KR_6613770067</td>\n",
       "      <td>KR_6613828084</td>\n",
       "    </tr>\n",
       "  </tbody>\n",
       "</table>\n",
       "</div>"
      ],
      "text/plain": [
       "           match1         match2         match3         match4         match5  \\\n",
       "0   KR_6613941315  KR_6613987729  KR_6614204138  KR_6619754667  KR_6621536984   \n",
       "1   KR_6661857315  KR_6662658092  KR_6662878759  KR_6663816089  KR_6663918544   \n",
       "2   KR_6649317059  KR_6649399560  KR_6651641733  KR_6656551553  KR_6657626230   \n",
       "3   KR_6505755344  KR_6506836799  KR_6507063069  KR_6508479817  KR_6508528779   \n",
       "4   KR_6600350874  KR_6600518396  KR_6600690424  KR_6603571667  KR_6603662270   \n",
       "5   KR_6675293991  KR_6677031188  KR_6677223696  KR_6678439789  KR_6678471964   \n",
       "6   KR_6483406063  KR_6512503768  KR_6544457043  KR_6560860780  KR_6561935466   \n",
       "7   KR_6543581378  KR_6547253696  KR_6549561761  KR_6566278540  KR_6568801782   \n",
       "8   KR_6643645803  KR_6644176053  KR_6644273750  KR_6645738229  KR_6645902831   \n",
       "9   KR_6611167883  KR_6611251483  KR_6611273171  KR_6613147937  KR_6613216264   \n",
       "10  KR_6282624576  KR_6282685741  KR_6282719429  KR_6290233384  KR_6291314438   \n",
       "11  KR_6642220942  KR_6642376433  KR_6643365779  KR_6643997416  KR_6644367414   \n",
       "12  KR_6608691923  KR_6608778650  KR_6610653577  KR_6611103624  KR_6612944741   \n",
       "\n",
       "           match6         match7         match8         match9        match10  \n",
       "0   KR_6621619421  KR_6622454112  KR_6623973606  KR_6624290079  KR_6624480871  \n",
       "1   KR_6663968631  KR_6664044375  KR_6666840236  KR_6667098846  KR_6667275166  \n",
       "2   KR_6658072186  KR_6658114347  KR_6659075859  KR_6659283267  KR_6659923271  \n",
       "3   KR_6510608163  KR_6515250854  KR_6520524185  KR_6595497208  KR_6597466848  \n",
       "4   KR_6606740799  KR_6607340598  KR_6607603522  KR_6607703499  KR_6607898972  \n",
       "5   KR_6678726867  KR_6679804541  KR_6680129404  KR_6681420330  KR_6681494325  \n",
       "6   KR_6562544040  KR_6562587759  KR_6563164290  KR_6566183643  KR_6572437459  \n",
       "7   KR_6568879247  KR_6570507729  KR_6570599405  KR_6570692131  KR_6570780548  \n",
       "8   KR_6651306856  KR_6651359462  KR_6651825134  KR_6652007155  KR_6652124381  \n",
       "9   KR_6615021843  KR_6615053056  KR_6615069604  KR_6617034482  KR_6617062718  \n",
       "10  KR_6291959593  KR_6303736538  KR_6311456070  KR_6312167127  KR_6312267904  \n",
       "11  KR_6645843937  KR_6647256378  KR_6648307049  KR_6649011856  KR_6649586066  \n",
       "12  KR_6613176744  KR_6613191823  KR_6613209307  KR_6613770067  KR_6613828084  "
      ]
     },
     "execution_count": 11,
     "metadata": {},
     "output_type": "execute_result"
    }
   ],
   "source": [
    "df_puuid"
   ]
  },
  {
   "cell_type": "code",
   "execution_count": 12,
   "metadata": {},
   "outputs": [],
   "source": [
    "df_puuid.to_excel('temp_df_puuid.xlsx', index=False)"
   ]
  },
  {
   "cell_type": "code",
   "execution_count": null,
   "metadata": {},
   "outputs": [],
   "source": [
    "display(df_puuid.head(2))\n",
    "display(df_puuid.tail(2))"
   ]
  },
  {
   "cell_type": "code",
   "execution_count": null,
   "metadata": {},
   "outputs": [],
   "source": [
    "df2 = pd.concat([df, df_puuid], axis=1)"
   ]
  },
  {
   "cell_type": "code",
   "execution_count": null,
   "metadata": {},
   "outputs": [],
   "source": [
    "df2.to_excel('matchid_data.xlsx', index=False)"
   ]
  },
  {
   "cell_type": "code",
   "execution_count": null,
   "metadata": {},
   "outputs": [],
   "source": [
    "df2 = pd.read_excel('matchid_data.xlsx')"
   ]
  },
  {
   "cell_type": "code",
   "execution_count": null,
   "metadata": {},
   "outputs": [],
   "source": [
    "display(df2.head(2))\n",
    "display(df2.tail(2))"
   ]
  },
  {
   "cell_type": "markdown",
   "metadata": {},
   "source": [
    "#### 경기 데이터 전처리"
   ]
  },
  {
   "cell_type": "code",
   "execution_count": null,
   "metadata": {},
   "outputs": [],
   "source": [
    "def make_base_dict(puuid, matchid):\n",
    "    base_dict = {'puuid': puuid, 'matchid': matchid}\n",
    "    \n",
    "    return base_dict"
   ]
  },
  {
   "cell_type": "code",
   "execution_count": null,
   "metadata": {},
   "outputs": [],
   "source": [
    "def response_match(matchid):\n",
    "    url = 'https://asia.api.riotgames.com/lol/match/v5/matches/' + matchid\n",
    "    resp_ma = requests.get(url, headers=request_header)\n",
    "\n",
    "    return resp_ma"
   ]
  },
  {
   "cell_type": "code",
   "execution_count": null,
   "metadata": {},
   "outputs": [],
   "source": [
    "# participant ID 찾기\n",
    "### match 에서는 pid-1\n",
    "### timeline 에서는 'pid'\n",
    "def find_participantId(resp_ma, puuid):\n",
    "    return resp_ma.json()['metadata']['participants'].index(puuid) + 1"
   ]
  },
  {
   "cell_type": "code",
   "execution_count": null,
   "metadata": {},
   "outputs": [],
   "source": [
    "def make_data_end_dict(resp_ma, parti_id):\n",
    "    data_end = resp_ma.json()['info']['participants'][parti_id - 1]\n",
    "\n",
    "    data_end_dict = {'win': data_end['win'],\n",
    "                     'kills': data_end['kills'],\n",
    "                     'deaths': data_end['deaths'],\n",
    "                     'assists': data_end['assists'],\n",
    "                     'bountyGold': data_end['challenges']['bountyGold'],\n",
    "                     'turretKills': data_end['turretKills'],\n",
    "                     'turretsLost': data_end['turretsLost']\n",
    "                    }\n",
    "    \n",
    "    return data_end_dict"
   ]
  },
  {
   "cell_type": "code",
   "execution_count": null,
   "metadata": {},
   "outputs": [],
   "source": [
    "def response_timelines(matchid):\n",
    "    url = 'https://asia.api.riotgames.com/lol/match/v5/matches/' + matchid + '/timeline'\n",
    "    resp_tl = requests.get(url, headers=request_header)\n",
    "    \n",
    "    return resp_tl"
   ]
  },
  {
   "cell_type": "code",
   "execution_count": null,
   "metadata": {},
   "outputs": [],
   "source": [
    "def make_data_15_dict(resp_tl, parti_id):\n",
    "    data_15 = resp_tl.json()['info']['frames'][15]['participantFrames'][str(parti_id)]\n",
    "\n",
    "    data_15_dict = {'totalDamageDone15': data_15['damageStats']['totalDamageDone'],\n",
    "                    'totalDamageDoneToChampions15': data_15['damageStats']['totalDamageDoneToChampions'],\n",
    "                    'totalDamageTaken15': data_15['damageStats']['totalDamageTaken'],\n",
    "                    'level15': data_15['level'],\n",
    "                    'xp15': data_15['xp'],\n",
    "                    'minionsKilled15': data_15['minionsKilled'],\n",
    "                    'totalGold15': data_15['totalGold']\n",
    "                    }\n",
    "    \n",
    "    return data_15_dict"
   ]
  },
  {
   "cell_type": "code",
   "execution_count": null,
   "metadata": {},
   "outputs": [],
   "source": [
    "def make_data_15_kda_dict(resp_tl, parti_id):\n",
    "    data_15_kda_dict = {'kills15': 0, 'deaths15': 0, 'assists15': 0}\n",
    "\n",
    "    for times in range(0, 16):\n",
    "        events = resp_tl.json()['info']['frames'][times]['events']\n",
    "\n",
    "        for i in range(len(events)):\n",
    "            if list(events[i])[0] == 'assistingParticipantIds' and events[i]['type'] == 'CHAMPION_KILL':\n",
    "                \n",
    "                if parti_id == events[i]['killerId']:\n",
    "                    data_15_kda_dict['kills15'] += 1\n",
    "\n",
    "                if parti_id == events[i]['victimId']:\n",
    "                    data_15_kda_dict['deaths15'] += 1\n",
    "\n",
    "                if parti_id in events[i]['assistingParticipantIds']:\n",
    "                    data_15_kda_dict['assists15'] += 1\n",
    "\n",
    "    return data_15_kda_dict"
   ]
  },
  {
   "cell_type": "code",
   "execution_count": null,
   "metadata": {},
   "outputs": [],
   "source": [
    "match_cols = ['puuid', 'matchid', \\\n",
    "              'win', 'kills', 'deaths', 'assists', 'bountyGold', 'turretKills', 'turretsLost', \\\n",
    "              'totalDamageDone15', 'totalDamageDoneToChampions15', 'totalDamageTaken15', 'level15', 'xp15', 'minionsKilled15', 'totalGold15', \\\n",
    "              'kills15', 'deaths15', 'assists15']"
   ]
  },
  {
   "cell_type": "code",
   "execution_count": null,
   "metadata": {},
   "outputs": [],
   "source": [
    "df_match = pd.DataFrame(columns=match_cols)\n",
    "df_match"
   ]
  },
  {
   "cell_type": "code",
   "execution_count": null,
   "metadata": {},
   "outputs": [],
   "source": [
    "for i in range(len(df2)):\n",
    "    puuid = list(df2.loc[[i]]['puuid'])[0]\n",
    "    match_ids = list(df2.loc[i])[3:]\n",
    "    \n",
    "    for matchid in match_ids:\n",
    "        base_dict = make_base_dict(puuid, matchid)\n",
    "        \n",
    "        resp_ma = response_match(matchid)\n",
    "        if resp_ma.status_code == 429: # Rate limit exceed\n",
    "            print(\"sleep(ma)\", resp_ma.headers['Retry-After'])\n",
    "            time.sleep(int(resp_ma.headers['Retry-After']) + 5)\n",
    "            resp_ma = response_match(matchid)\n",
    "\n",
    "        parti_id = find_participantId(resp_ma, puuid)\n",
    "        data_end_dict = make_data_end_dict(resp_ma, parti_id)\n",
    "\n",
    "        resp_tl = response_timelines(matchid)\n",
    "        if resp_tl.status_code == 429: # Rate limit exceed\n",
    "            print(\"sleep(tl)\", resp_tl.headers['Retry-After'])\n",
    "            time.sleep(int(resp_tl.headers['Retry-After']) + 5)\n",
    "            resp_tl = response_match(matchid)\n",
    "\n",
    "        data_15_dict = make_data_15_dict(resp_tl, parti_id)\n",
    "        data_15_kda_dict = make_data_15_kda_dict(resp_tl, parti_id)\n",
    "\n",
    "        base_dict.update(data_end_dict)\n",
    "        base_dict.update(data_15_dict)\n",
    "        base_dict.update(data_15_kda_dict)\n",
    "        df_match = df_match.append(base_dict, ignore_index=True)\n",
    "\n",
    "    time.sleep(5)"
   ]
  },
  {
   "cell_type": "code",
   "execution_count": null,
   "metadata": {},
   "outputs": [],
   "source": [
    "display(df_match.head(2))\n",
    "display(df_match.tail(2))"
   ]
  },
  {
   "cell_type": "code",
   "execution_count": null,
   "metadata": {},
   "outputs": [],
   "source": [
    "df_match.to_excel('match_log_data.xlsx', index=False)"
   ]
  },
  {
   "cell_type": "code",
   "execution_count": null,
   "metadata": {},
   "outputs": [],
   "source": [
    "df_match = pd.read_excel('match_log_data.xlsx')"
   ]
  },
  {
   "cell_type": "markdown",
   "metadata": {},
   "source": [
    "#### 연습구간"
   ]
  },
  {
   "cell_type": "code",
   "execution_count": null,
   "metadata": {},
   "outputs": [],
   "source": [
    "# parti_ID 찾기\n",
    "def find_participantId(response, puuid):\n",
    "    return response.json()['metadata']['participants'].index(puuid) + 1"
   ]
  },
  {
   "cell_type": "code",
   "execution_count": null,
   "metadata": {},
   "outputs": [],
   "source": [
    "find_participantId(resp_tl, df2['puuid'][0])"
   ]
  },
  {
   "cell_type": "code",
   "execution_count": null,
   "metadata": {},
   "outputs": [],
   "source": [
    "resp_tl.json()['info']['frames'][15]['participantFrames']['9']"
   ]
  },
  {
   "cell_type": "code",
   "execution_count": null,
   "metadata": {},
   "outputs": [],
   "source": [
    "print(resp_tl.json()['info']['frames'][15]['participantFrames']['9']['damageStats']['totalDamageDone']) # 15분까지 가한 피해량\n",
    "print(resp_tl.json()['info']['frames'][15]['participantFrames']['9']['damageStats']['totalDamageDoneToChampions']) # 15분까지 챔피언에게 가한 피해량\n",
    "print(resp_tl.json()['info']['frames'][15]['participantFrames']['9']['damageStats']['totalDamageTaken']) # 15분까지 받은 피해량\n",
    "print(resp_tl.json()['info']['frames'][15]['participantFrames']['9']['level']) # 15분 레벨\n",
    "print(resp_tl.json()['info']['frames'][15]['participantFrames']['9']['minionsKilled']) # 15분 미니언 처치 수\n",
    "print(resp_tl.json()['info']['frames'][15]['participantFrames']['9']['totalGold']) # 15분 골드 누적 획득량\n",
    "print(resp_tl.json()['info']['frames'][15]['participantFrames']['9']['xp']) # 15분 경험치 누적 획득량\n",
    "\n",
    "# 게임 종료\n",
    "print(response.json()['info']['participants'][8]['challenges']['bountyGold']) # 현상금\n",
    "print(response.json()['info']['participants'][8]['kills']) # 킬\n",
    "print(response.json()['info']['participants'][8]['deaths']) # 데스\n",
    "print(response.json()['info']['participants'][8]['assists']) # 어시스트\n",
    "print(response.json()['info']['participants'][8]['turretKills']) # 자신이 파괴한 포탑 수\n",
    "print(response.json()['info']['participants'][8]['turretsLost']) # 전체 파괴된 포탑 수\n",
    "print(response.json()['info']['participants'][8]['win']) # 승패 여부"
   ]
  },
  {
   "cell_type": "code",
   "execution_count": null,
   "metadata": {},
   "outputs": [],
   "source": [
    "resp_tl.json()['info']['frames'][8]['events'][22].keys()"
   ]
  },
  {
   "cell_type": "code",
   "execution_count": null,
   "metadata": {},
   "outputs": [],
   "source": [
    "x = resp_tl.json()['info']['frames'][8]['events']\n",
    "for i in range(len(x)):\n",
    "    if list(x[i])[0] == 'assistingParticipantIds':\n",
    "        print(i, x[i]['assistingParticipantIds'], x[i]['killerId'], x[i]['victimId'])\n",
    "\n",
    "        if 9 in x[i]['assistingParticipantIds']:\n",
    "            print('\\tassist')\n",
    "        if 9 == x[i]['killerId']:\n",
    "            print('\\tkill')\n",
    "        if 9 == x[i]['victimId']:\n",
    "            print('\\tdeath')"
   ]
  },
  {
   "cell_type": "markdown",
   "metadata": {},
   "source": [
    "##### 테스트"
   ]
  },
  {
   "cell_type": "code",
   "execution_count": null,
   "metadata": {},
   "outputs": [],
   "source": [
    "pud = df2['puuid'][0]\n",
    "mid = df2['match1'][0]\n",
    "basedict = {'puuid': pud, 'matchid': mid}"
   ]
  },
  {
   "cell_type": "code",
   "execution_count": null,
   "metadata": {},
   "outputs": [],
   "source": [
    "url1 = 'https://asia.api.riotgames.com/lol/match/v5/matches/' + mid\n",
    "resp_end = requests.get(url1, headers=request_header)\n",
    "part_id = find_participantId(resp_end, pud)"
   ]
  },
  {
   "cell_type": "code",
   "execution_count": null,
   "metadata": {},
   "outputs": [],
   "source": [
    "part_id"
   ]
  },
  {
   "cell_type": "code",
   "execution_count": null,
   "metadata": {},
   "outputs": [],
   "source": [
    "data_end = resp_end.json()['info']['participants'][part_id-1]\n",
    "data_end_dict = {'win': data_end['win'],\n",
    "                 'kills': data_end['kills'],\n",
    "                 'deaths': data_end['deaths'],\n",
    "                 'assists': data_end['assists'],\n",
    "                 'bountyGold': data_end['challenges']['bountyGold'],\n",
    "                 'turretKills': data_end['turretKills'],\n",
    "                 'turretsLost': data_end['turretsLost']\n",
    "                 }"
   ]
  },
  {
   "cell_type": "code",
   "execution_count": null,
   "metadata": {},
   "outputs": [],
   "source": [
    "data_end_dict"
   ]
  },
  {
   "cell_type": "code",
   "execution_count": null,
   "metadata": {},
   "outputs": [],
   "source": [
    "url_tl = 'https://asia.api.riotgames.com/lol/match/v5/matches/' + mid + '/timeline'\n",
    "resp_tl = requests.get(url_tl, headers=request_header)"
   ]
  },
  {
   "cell_type": "code",
   "execution_count": null,
   "metadata": {},
   "outputs": [],
   "source": [
    "data_15 = resp_tl.json()['info']['frames'][15]['participantFrames'][str(part_id)]\n",
    "data_15_dict = {'totalDamageDone15': data_15['damageStats']['totalDamageDone'],\n",
    "                'totalDamageDoneToChampions15': data_15['damageStats']['totalDamageDoneToChampions'],\n",
    "                'totalDamageTaken15': data_15['damageStats']['totalDamageTaken'],\n",
    "                'level15': data_15['level'],\n",
    "                'xp15': data_15['xp'],\n",
    "                'minionsKilled15': data_15['minionsKilled'],\n",
    "                'totalGold15': data_15['totalGold']\n",
    "                }"
   ]
  },
  {
   "cell_type": "code",
   "execution_count": null,
   "metadata": {},
   "outputs": [],
   "source": [
    "data_15_dict"
   ]
  },
  {
   "cell_type": "code",
   "execution_count": null,
   "metadata": {},
   "outputs": [],
   "source": [
    "x = resp_tl.json()['info']['frames'][8]['events']\n",
    "for i in range(len(x)):\n",
    "    if list(x[i])[0] == 'assistingParticipantIds':\n",
    "        print(i, x[i]['assistingParticipantIds'], x[i]['killerId'], x[i]['victimId'])\n",
    "\n",
    "        if 9 in x[i]['assistingParticipantIds']:\n",
    "            print('\\tassist')\n",
    "        if 9 == x[i]['killerId']:\n",
    "            print('\\tkill')\n",
    "        if 9 == x[i]['victimId']:\n",
    "            print('\\tdeath')"
   ]
  },
  {
   "cell_type": "code",
   "execution_count": null,
   "metadata": {},
   "outputs": [],
   "source": [
    "data_15_kda = {'kills15': 0, 'deaths15': 0, 'assists15': 0}"
   ]
  },
  {
   "cell_type": "code",
   "execution_count": null,
   "metadata": {},
   "outputs": [],
   "source": [
    "for times in range(0, 16):\n",
    "    events = resp_tl.json()['info']['frames'][times]['events']\n",
    "\n",
    "    for i in range(len(events)):\n",
    "        if list(events[i])[0] == 'assistingParticipantIds' and events[i]['type'] == 'CHAMPION_KILL':\n",
    "            \n",
    "            if part_id == events[i]['killerId']:\n",
    "                data_15_kda['kills15'] += 1\n",
    "\n",
    "            if part_id == events[i]['victimId']:\n",
    "                data_15_kda['deaths15'] += 1\n",
    "\n",
    "            if part_id in events[i]['assistingParticipantIds']:\n",
    "                data_15_kda['assists15'] += 1"
   ]
  },
  {
   "cell_type": "code",
   "execution_count": null,
   "metadata": {},
   "outputs": [],
   "source": [
    "data_15_kda"
   ]
  },
  {
   "cell_type": "code",
   "execution_count": null,
   "metadata": {},
   "outputs": [],
   "source": [
    "basedict.update(data_end_dict)\n",
    "basedict.update(data_15_dict)\n",
    "basedict.update(data_15_kda)"
   ]
  },
  {
   "cell_type": "code",
   "execution_count": null,
   "metadata": {},
   "outputs": [],
   "source": [
    "basedict"
   ]
  },
  {
   "cell_type": "code",
   "execution_count": null,
   "metadata": {},
   "outputs": [],
   "source": [
    "df_match.append(basedict, ignore_index=True)"
   ]
  },
  {
   "cell_type": "code",
   "execution_count": null,
   "metadata": {},
   "outputs": [],
   "source": []
  },
  {
   "cell_type": "markdown",
   "metadata": {},
   "source": [
    "##### -----"
   ]
  },
  {
   "cell_type": "code",
   "execution_count": null,
   "metadata": {},
   "outputs": [],
   "source": [
    "tempdf = df_match.copy()\n",
    "tempdf\n"
   ]
  },
  {
   "cell_type": "code",
   "execution_count": null,
   "metadata": {},
   "outputs": [],
   "source": [
    "temp_dict = {'win':True, 'kills':10, 'deaths':20, 'assists':30}\n",
    "td2 = {'new': False}"
   ]
  },
  {
   "cell_type": "code",
   "execution_count": null,
   "metadata": {},
   "outputs": [],
   "source": [
    "tempdf = pd.DataFrame(columns=['win', 'kills', 'deaths', 'assists', 'new'])"
   ]
  },
  {
   "cell_type": "code",
   "execution_count": null,
   "metadata": {},
   "outputs": [],
   "source": [
    "for key, value in temp_dict.items():\n",
    "    print(key, value)\n",
    "    tempdf.append(temp_dict, ignore_index=True)\n",
    "\n",
    "tempdf"
   ]
  },
  {
   "cell_type": "code",
   "execution_count": null,
   "metadata": {},
   "outputs": [],
   "source": [
    "temp_dict.update(td2)"
   ]
  },
  {
   "cell_type": "code",
   "execution_count": null,
   "metadata": {},
   "outputs": [],
   "source": [
    "temp_dict"
   ]
  },
  {
   "cell_type": "code",
   "execution_count": null,
   "metadata": {},
   "outputs": [],
   "source": [
    "tempdf.append(temp_dict, ignore_index=True)"
   ]
  },
  {
   "cell_type": "code",
   "execution_count": null,
   "metadata": {},
   "outputs": [],
   "source": []
  },
  {
   "cell_type": "code",
   "execution_count": null,
   "metadata": {},
   "outputs": [],
   "source": [
    "requests.get('http://ddragon.leagueoflegends.com/cdn/13.17.1/data/en_US/item.json').json()['data']['1001']['image']['full']"
   ]
  },
  {
   "cell_type": "code",
   "execution_count": null,
   "metadata": {},
   "outputs": [],
   "source": []
  },
  {
   "cell_type": "code",
   "execution_count": null,
   "metadata": {},
   "outputs": [],
   "source": [
    "url = 'https://asia.api.riotgames.com/lol/match/v5/matches/' + df2['match1'][0] + '/timeline'\n",
    "response = requests.get(url, headers=request_header)\n",
    "printjs(response.json())"
   ]
  },
  {
   "cell_type": "code",
   "execution_count": null,
   "metadata": {},
   "outputs": [],
   "source": [
    "response.json()['info'].keys()"
   ]
  },
  {
   "cell_type": "code",
   "execution_count": null,
   "metadata": {},
   "outputs": [],
   "source": [
    "response.json()['info']['frames']"
   ]
  },
  {
   "cell_type": "code",
   "execution_count": null,
   "metadata": {},
   "outputs": [],
   "source": [
    "temp = response.json()['info']\n",
    "len(temp['frames'])"
   ]
  },
  {
   "cell_type": "code",
   "execution_count": null,
   "metadata": {},
   "outputs": [],
   "source": [
    "for x in temp['frames']:\n",
    "    del x['participantFrames']"
   ]
  },
  {
   "cell_type": "code",
   "execution_count": null,
   "metadata": {},
   "outputs": [],
   "source": [
    "temp['frames']"
   ]
  },
  {
   "cell_type": "markdown",
   "metadata": {},
   "source": [
    "#### 15분\n",
    "* 서렌 가능 시간\n",
    "* 포탑 방패가 사라지는 14분 + 이후 타워가 깨질 수 있는 시간 약 1분\n",
    "* 챔피언 성능이 달라지는 1코어 이상(1.5코어) 아이템 소지"
   ]
  },
  {
   "cell_type": "code",
   "execution_count": null,
   "metadata": {},
   "outputs": [],
   "source": []
  },
  {
   "cell_type": "markdown",
   "metadata": {},
   "source": [
    "#### 10분?\n",
    "* 다른 라이너의 큰 개입 없이 라인전이 이루어지는 시간\n",
    "* 서포터까지도 충분히 궁극기를 배우고 교전에 적극 참여하기 충분한 시간\n",
    "* 12~13분이면 라인전이 끝남, 15분은 거의 3번째 용"
   ]
  },
  {
   "cell_type": "code",
   "execution_count": null,
   "metadata": {},
   "outputs": [],
   "source": []
  }
 ],
 "metadata": {
  "kernelspec": {
   "display_name": "base",
   "language": "python",
   "name": "python3"
  },
  "language_info": {
   "codemirror_mode": {
    "name": "ipython",
    "version": 3
   },
   "file_extension": ".py",
   "mimetype": "text/x-python",
   "name": "python",
   "nbconvert_exporter": "python",
   "pygments_lexer": "ipython3",
   "version": "3.8.8"
  },
  "orig_nbformat": 4
 },
 "nbformat": 4,
 "nbformat_minor": 2
}
